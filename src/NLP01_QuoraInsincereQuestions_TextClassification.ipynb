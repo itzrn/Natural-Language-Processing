{
 "cells": [
  {
   "cell_type": "markdown",
   "id": "e89cb95b-db64-4147-a784-17984b97866a",
   "metadata": {},
   "source": [
    "# Text Classification with Bag of Words - Natural Language Processing\n",
    "\n",
    "![](https://i.imgur.com/hlEQ5X8.png)\n",
    "\n",
    "> _\"Natural language processing (NLP) is a subfield of linguistics, computer science, and artificial intelligence concerned with the interactions between computers and human language, in particular how to program computers to process and analyze large amounts of natural language data.\"_ - Wikipedia\n",
    "\n",
    "> _**Bag of Words**: The bag-of-words (BOW) model is a representation that turns arbitrary text into fixed-length vectors by counting how many times each word appears._\n",
    " \n",
    "Outline:\n",
    "\n",
    "1. Download and explore a real-world dataset\n",
    "2. Apply text preprocessing techniques\n",
    "3. Implement the bag of words model\n",
    "4. Train ML models for text classification\n",
    "5. Make predictions and submit to Kaggle\n",
    "\n",
    "\n",
    "Dataset: https://www.kaggle.com/c/quora-insincere-questions-classification\n",
    "\n",
    "## Download and Explore the Data\n",
    "\n",
    "Outline:\n",
    "\n",
    "1. Download the dataset from Kaggle\n",
    "2. Explore the data using Pandas\n",
    "3. Create a small working sample"
   ]
  },
  {
   "cell_type": "markdown",
   "id": "72cecfe1-7634-419c-87d8-699cff603231",
   "metadata": {},
   "source": [
    "# Downloading The dataset\n",
    "\n",
    "- the bellow commond is not a python commond this is the terminal commond, we can also run terminal commonds here easly"
   ]
  },
  {
   "cell_type": "code",
   "execution_count": 1,
   "id": "314d967e-1d37-4f6b-829b-df76e37aa94f",
   "metadata": {},
   "outputs": [
    {
     "name": "stdout",
     "output_type": "stream",
     "text": [
      " Volume in drive C is OS\n",
      " Volume Serial Number is 960C-E226\n",
      "\n",
      " Directory of C:\\Users\\dhara\\Desktop\\VIT_AP\\githubrepo\\Natural-Language-Processing\\src\n",
      "\n",
      "01/27/2024  10:39 AM    <DIR>          .\n",
      "01/27/2024  10:39 AM    <DIR>          ..\n",
      "01/27/2024  10:15 AM    <DIR>          .ipynb_checkpoints\n",
      "01/16/2024  12:43 PM    <DIR>          dataset\n",
      "01/27/2024  10:30 AM                62 kaggle.json\n",
      "01/27/2024  10:39 AM             7,973 NLP01_QuoraInsincereQuestions_TextClassification.ipynb\n",
      "12/11/2019  05:32 AM       579,862,528 quora-insincere-questions-classification.zip\n",
      "               3 File(s)    579,870,563 bytes\n",
      "               4 Dir(s)  132,223,520,768 bytes free\n"
     ]
    }
   ],
   "source": [
    "ls"
   ]
  },
  {
   "cell_type": "code",
   "execution_count": 2,
   "id": "78edd496-326f-4ffa-afdd-7d441a09da2a",
   "metadata": {},
   "outputs": [],
   "source": [
    "import os"
   ]
  },
  {
   "cell_type": "code",
   "execution_count": 3,
   "id": "30a758d1-f3ac-4a99-aa02-7370691b1933",
   "metadata": {},
   "outputs": [],
   "source": [
    "# now we are just setting a shell environment variable which inform the Kaggle api(kaggle commond line tool) where the config file is located.\n",
    "os.environ['KAGGLE_CONFIG_DIR']='.' # setting to current directory so it can fetch the kaggle.json easily"
   ]
  },
  {
   "cell_type": "markdown",
   "id": "f91639ea-4b61-41e6-859b-8ff550e92f2c",
   "metadata": {},
   "source": [
    "- here is the link -> https://github.com/kaggle/kaggle-api\n",
    "- where you can get the info to download the dataset from the kaggle"
   ]
  },
  {
   "cell_type": "code",
   "execution_count": 4,
   "id": "d0ddeff1-5399-4fe9-83ae-60b4dd1d3540",
   "metadata": {
    "scrolled": true
   },
   "outputs": [
    {
     "name": "stdout",
     "output_type": "stream",
     "text": [
      "Downloading train.csv.zip to dataset\n",
      "\n"
     ]
    },
    {
     "name": "stderr",
     "output_type": "stream",
     "text": [
      "\n",
      "  0%|          | 0.00/54.9M [00:00<?, ?B/s]\n",
      "  2%|1         | 1.00M/54.9M [00:01<01:10, 802kB/s]\n",
      "  4%|3         | 2.00M/54.9M [00:01<00:36, 1.53MB/s]\n",
      "  5%|5         | 3.00M/54.9M [00:01<00:25, 2.12MB/s]\n",
      "  7%|7         | 4.00M/54.9M [00:02<00:20, 2.62MB/s]\n",
      "  9%|9         | 5.00M/54.9M [00:02<00:17, 3.06MB/s]\n",
      " 11%|#         | 6.00M/54.9M [00:02<00:15, 3.39MB/s]\n",
      " 13%|#2        | 7.00M/54.9M [00:02<00:13, 3.62MB/s]\n",
      " 15%|#4        | 8.00M/54.9M [00:03<00:12, 3.84MB/s]\n",
      " 16%|#6        | 9.00M/54.9M [00:03<00:12, 3.80MB/s]\n",
      " 18%|#8        | 10.0M/54.9M [00:03<00:12, 3.91MB/s]\n",
      " 20%|##        | 11.0M/54.9M [00:03<00:11, 4.02MB/s]\n",
      " 22%|##1       | 12.0M/54.9M [00:04<00:11, 3.96MB/s]\n",
      " 24%|##3       | 13.0M/54.9M [00:04<00:11, 3.91MB/s]\n",
      " 25%|##5       | 14.0M/54.9M [00:04<00:10, 3.93MB/s]\n",
      " 27%|##7       | 15.0M/54.9M [00:04<00:10, 3.99MB/s]\n",
      " 29%|##9       | 16.0M/54.9M [00:05<00:10, 3.97MB/s]\n",
      " 31%|###       | 17.0M/54.9M [00:05<00:09, 4.08MB/s]\n",
      " 33%|###2      | 18.0M/54.9M [00:05<00:09, 4.14MB/s]\n",
      " 35%|###4      | 19.0M/54.9M [00:05<00:09, 4.18MB/s]\n",
      " 36%|###6      | 20.0M/54.9M [00:06<00:09, 4.04MB/s]\n",
      " 38%|###8      | 21.0M/54.9M [00:06<00:08, 4.08MB/s]\n",
      " 40%|####      | 22.0M/54.9M [00:06<00:08, 4.19MB/s]\n",
      " 42%|####1     | 23.0M/54.9M [00:06<00:07, 4.28MB/s]\n",
      " 44%|####3     | 24.0M/54.9M [00:07<00:07, 4.22MB/s]\n",
      " 46%|####5     | 25.0M/54.9M [00:07<00:07, 4.17MB/s]\n",
      " 47%|####7     | 26.0M/54.9M [00:07<00:07, 4.24MB/s]\n",
      " 49%|####9     | 27.0M/54.9M [00:07<00:07, 4.11MB/s]\n",
      " 51%|#####     | 28.0M/54.9M [00:08<00:08, 3.42MB/s]\n",
      " 53%|#####2    | 29.0M/54.9M [00:08<00:09, 2.99MB/s]\n",
      " 55%|#####4    | 30.0M/54.9M [00:09<00:09, 2.79MB/s]\n",
      " 56%|#####6    | 31.0M/54.9M [00:09<00:10, 2.31MB/s]\n",
      " 58%|#####8    | 32.0M/54.9M [00:10<00:11, 2.10MB/s]\n",
      " 60%|######    | 33.0M/54.9M [00:10<00:10, 2.10MB/s]\n",
      " 62%|######1   | 34.0M/54.9M [00:11<00:09, 2.33MB/s]\n",
      " 64%|######3   | 35.0M/54.9M [00:11<00:07, 2.65MB/s]\n",
      " 66%|######5   | 36.0M/54.9M [00:11<00:06, 2.99MB/s]\n",
      " 67%|######7   | 37.0M/54.9M [00:12<00:05, 3.24MB/s]\n",
      " 69%|######9   | 38.0M/54.9M [00:12<00:05, 3.25MB/s]\n",
      " 71%|#######   | 39.0M/54.9M [00:12<00:05, 3.28MB/s]\n",
      " 73%|#######2  | 40.0M/54.9M [00:13<00:04, 3.34MB/s]\n",
      " 75%|#######4  | 41.0M/54.9M [00:13<00:04, 3.26MB/s]\n",
      " 76%|#######6  | 42.0M/54.9M [00:13<00:03, 3.52MB/s]\n",
      " 78%|#######8  | 43.0M/54.9M [00:13<00:03, 3.59MB/s]\n",
      " 80%|########  | 44.0M/54.9M [00:14<00:03, 3.69MB/s]\n",
      " 82%|########1 | 45.0M/54.9M [00:14<00:02, 3.67MB/s]\n",
      " 84%|########3 | 46.0M/54.9M [00:14<00:02, 3.75MB/s]\n",
      " 86%|########5 | 47.0M/54.9M [00:15<00:02, 3.35MB/s]\n",
      " 87%|########7 | 48.0M/54.9M [00:15<00:02, 3.13MB/s]\n",
      " 89%|########9 | 49.0M/54.9M [00:15<00:01, 3.21MB/s]\n",
      " 91%|#########1| 50.0M/54.9M [00:16<00:01, 3.25MB/s]\n",
      " 93%|#########2| 51.0M/54.9M [00:16<00:01, 2.92MB/s]\n",
      " 95%|#########4| 52.0M/54.9M [00:16<00:01, 3.03MB/s]\n",
      " 96%|#########6| 53.0M/54.9M [00:17<00:00, 2.74MB/s]\n",
      " 98%|#########8| 54.0M/54.9M [00:17<00:00, 2.62MB/s]\n",
      "100%|##########| 54.9M/54.9M [00:17<00:00, 2.98MB/s]\n",
      "100%|##########| 54.9M/54.9M [00:17<00:00, 3.20MB/s]\n"
     ]
    }
   ],
   "source": [
    "!kaggle competitions download -c quora-insincere-questions-classification -f train.csv -p dataset"
   ]
  },
  {
   "cell_type": "markdown",
   "id": "ef19f0da-12c2-451c-b78a-c5ebda6b15ae",
   "metadata": {},
   "source": [
    "- Downloading test.csv and smaple_submission.csv also"
   ]
  },
  {
   "cell_type": "code",
   "execution_count": 5,
   "id": "7cb3416e-53f7-4ace-8206-30b46101beb9",
   "metadata": {},
   "outputs": [
    {
     "name": "stdout",
     "output_type": "stream",
     "text": [
      "403 - Forbidden - Permission 'competitions.participate' was denied\n",
      "Downloading sample_submission.csv.zip to dataset\n",
      "\n"
     ]
    },
    {
     "name": "stderr",
     "output_type": "stream",
     "text": [
      "\n",
      "  0%|          | 0.00/4.09M [00:00<?, ?B/s]\n",
      " 24%|##4       | 1.00M/4.09M [00:01<00:03, 846kB/s]\n",
      " 49%|####8     | 2.00M/4.09M [00:01<00:01, 1.59MB/s]\n",
      " 73%|#######3  | 3.00M/4.09M [00:01<00:00, 2.22MB/s]\n",
      " 98%|#########7| 4.00M/4.09M [00:01<00:00, 2.76MB/s]\n",
      "100%|##########| 4.09M/4.09M [00:01<00:00, 2.15MB/s]\n"
     ]
    }
   ],
   "source": [
    "!kaggle competitions download -c quora-insincere-questions-classification -f sample_submission.csv -p dataset"
   ]
  },
  {
   "cell_type": "markdown",
   "id": "0d9aeab5-cb2e-49c7-8879-5625f177a9ff",
   "metadata": {},
   "source": [
    "# Exploring data using Pandas\n",
    "Pandas library can also be used to explore the zip data"
   ]
  },
  {
   "cell_type": "code",
   "execution_count": 7,
   "id": "01a62692-8bc8-4fbf-85b7-c5635b24e874",
   "metadata": {},
   "outputs": [],
   "source": [
    "train_fname = 'dataset/NLP01_train.csv.zip'\n",
    "test_fname = 'dataset/NLP01_test.csv.zip'\n",
    "smaple_submission_fname = 'dataset/NLP01_sample_submission.csv.zip'"
   ]
  },
  {
   "cell_type": "code",
   "execution_count": 8,
   "id": "699e23c9-b96a-4b74-b59f-0beebc231e16",
   "metadata": {},
   "outputs": [],
   "source": [
    "import pandas as pd"
   ]
  },
  {
   "cell_type": "code",
   "execution_count": 10,
   "id": "f9cf21ac-2685-412c-908b-9dcb5f47d631",
   "metadata": {},
   "outputs": [],
   "source": [
    "raw_df = pd.read_csv(train_fname)"
   ]
  },
  {
   "cell_type": "code",
   "execution_count": 11,
   "id": "f3dbe771-1f42-410f-99a9-87b38fabb7a3",
   "metadata": {},
   "outputs": [
    {
     "data": {
      "text/html": [
       "<div>\n",
       "<style scoped>\n",
       "    .dataframe tbody tr th:only-of-type {\n",
       "        vertical-align: middle;\n",
       "    }\n",
       "\n",
       "    .dataframe tbody tr th {\n",
       "        vertical-align: top;\n",
       "    }\n",
       "\n",
       "    .dataframe thead th {\n",
       "        text-align: right;\n",
       "    }\n",
       "</style>\n",
       "<table border=\"1\" class=\"dataframe\">\n",
       "  <thead>\n",
       "    <tr style=\"text-align: right;\">\n",
       "      <th></th>\n",
       "      <th>qid</th>\n",
       "      <th>question_text</th>\n",
       "      <th>target</th>\n",
       "    </tr>\n",
       "  </thead>\n",
       "  <tbody>\n",
       "    <tr>\n",
       "      <th>0</th>\n",
       "      <td>00002165364db923c7e6</td>\n",
       "      <td>How did Quebec nationalists see their province...</td>\n",
       "      <td>0</td>\n",
       "    </tr>\n",
       "    <tr>\n",
       "      <th>1</th>\n",
       "      <td>000032939017120e6e44</td>\n",
       "      <td>Do you have an adopted dog, how would you enco...</td>\n",
       "      <td>0</td>\n",
       "    </tr>\n",
       "    <tr>\n",
       "      <th>2</th>\n",
       "      <td>0000412ca6e4628ce2cf</td>\n",
       "      <td>Why does velocity affect time? Does velocity a...</td>\n",
       "      <td>0</td>\n",
       "    </tr>\n",
       "    <tr>\n",
       "      <th>3</th>\n",
       "      <td>000042bf85aa498cd78e</td>\n",
       "      <td>How did Otto von Guericke used the Magdeburg h...</td>\n",
       "      <td>0</td>\n",
       "    </tr>\n",
       "    <tr>\n",
       "      <th>4</th>\n",
       "      <td>0000455dfa3e01eae3af</td>\n",
       "      <td>Can I convert montra helicon D to a mountain b...</td>\n",
       "      <td>0</td>\n",
       "    </tr>\n",
       "    <tr>\n",
       "      <th>...</th>\n",
       "      <td>...</td>\n",
       "      <td>...</td>\n",
       "      <td>...</td>\n",
       "    </tr>\n",
       "    <tr>\n",
       "      <th>1306117</th>\n",
       "      <td>ffffcc4e2331aaf1e41e</td>\n",
       "      <td>What other technical skills do you need as a c...</td>\n",
       "      <td>0</td>\n",
       "    </tr>\n",
       "    <tr>\n",
       "      <th>1306118</th>\n",
       "      <td>ffffd431801e5a2f4861</td>\n",
       "      <td>Does MS in ECE have good job prospects in USA ...</td>\n",
       "      <td>0</td>\n",
       "    </tr>\n",
       "    <tr>\n",
       "      <th>1306119</th>\n",
       "      <td>ffffd48fb36b63db010c</td>\n",
       "      <td>Is foam insulation toxic?</td>\n",
       "      <td>0</td>\n",
       "    </tr>\n",
       "    <tr>\n",
       "      <th>1306120</th>\n",
       "      <td>ffffec519fa37cf60c78</td>\n",
       "      <td>How can one start a research project based on ...</td>\n",
       "      <td>0</td>\n",
       "    </tr>\n",
       "    <tr>\n",
       "      <th>1306121</th>\n",
       "      <td>ffffed09fedb5088744a</td>\n",
       "      <td>Who wins in a battle between a Wolverine and a...</td>\n",
       "      <td>0</td>\n",
       "    </tr>\n",
       "  </tbody>\n",
       "</table>\n",
       "<p>1306122 rows × 3 columns</p>\n",
       "</div>"
      ],
      "text/plain": [
       "                          qid  \\\n",
       "0        00002165364db923c7e6   \n",
       "1        000032939017120e6e44   \n",
       "2        0000412ca6e4628ce2cf   \n",
       "3        000042bf85aa498cd78e   \n",
       "4        0000455dfa3e01eae3af   \n",
       "...                       ...   \n",
       "1306117  ffffcc4e2331aaf1e41e   \n",
       "1306118  ffffd431801e5a2f4861   \n",
       "1306119  ffffd48fb36b63db010c   \n",
       "1306120  ffffec519fa37cf60c78   \n",
       "1306121  ffffed09fedb5088744a   \n",
       "\n",
       "                                             question_text  target  \n",
       "0        How did Quebec nationalists see their province...       0  \n",
       "1        Do you have an adopted dog, how would you enco...       0  \n",
       "2        Why does velocity affect time? Does velocity a...       0  \n",
       "3        How did Otto von Guericke used the Magdeburg h...       0  \n",
       "4        Can I convert montra helicon D to a mountain b...       0  \n",
       "...                                                    ...     ...  \n",
       "1306117  What other technical skills do you need as a c...       0  \n",
       "1306118  Does MS in ECE have good job prospects in USA ...       0  \n",
       "1306119                          Is foam insulation toxic?       0  \n",
       "1306120  How can one start a research project based on ...       0  \n",
       "1306121  Who wins in a battle between a Wolverine and a...       0  \n",
       "\n",
       "[1306122 rows x 3 columns]"
      ]
     },
     "execution_count": 11,
     "metadata": {},
     "output_type": "execute_result"
    }
   ],
   "source": [
    "raw_df"
   ]
  },
  {
   "cell_type": "code",
   "execution_count": 12,
   "id": "0600435e-12b7-469d-8bc7-cdbe995b830a",
   "metadata": {},
   "outputs": [],
   "source": [
    "sincere_df = raw_df[raw_df.target == 0]"
   ]
  },
  {
   "cell_type": "code",
   "execution_count": 13,
   "id": "807d120e-6486-4a5c-961d-dd1c3566f484",
   "metadata": {},
   "outputs": [
    {
     "data": {
      "text/plain": [
       "array(['How did Quebec nationalists see their province as a nation in the 1960s?',\n",
       "       'Do you have an adopted dog, how would you encourage people to adopt and not shop?',\n",
       "       'Why does velocity affect time? Does velocity affect space geometry?',\n",
       "       'How did Otto von Guericke used the Magdeburg hemispheres?',\n",
       "       'Can I convert montra helicon D to a mountain bike by just changing the tyres?',\n",
       "       'Is Gaza slowly becoming Auschwitz, Dachau or Treblinka for Palestinians?',\n",
       "       'Why does Quora automatically ban conservative opinions when reported, but does not do the same for liberal views?',\n",
       "       'Is it crazy if I wash or wipe my groceries off? Germs are everywhere.',\n",
       "       'Is there such a thing as dressing moderately, and if so, how is that different than dressing modestly?',\n",
       "       'Is it just me or have you ever been in this phase wherein you became ignorant to the people you once loved, completely disregarding their feelings/lives so you get to have something go your way and feel temporarily at ease. How did things change?'],\n",
       "      dtype=object)"
      ]
     },
     "execution_count": 13,
     "metadata": {},
     "output_type": "execute_result"
    }
   ],
   "source": [
    "sincere_df.question_text.values[:10]"
   ]
  },
  {
   "cell_type": "code",
   "execution_count": 14,
   "id": "1fd31ff9-71f6-4abe-95f3-f773e03a7e22",
   "metadata": {},
   "outputs": [],
   "source": [
    "insincere_df = raw_df[raw_df.target == 1]"
   ]
  },
  {
   "cell_type": "code",
   "execution_count": 15,
   "id": "bcc68ee4-9dc6-41e3-a86c-40f58361c248",
   "metadata": {},
   "outputs": [
    {
     "data": {
      "text/plain": [
       "array(['Has the United States become the largest dictatorship in the world?',\n",
       "       'Which babies are more sweeter to their parents? Dark skin babies or light skin babies?',\n",
       "       \"If blacks support school choice and mandatory sentencing for criminals why don't they vote Republican?\",\n",
       "       'I am gay boy and I love my cousin (boy). He is sexy, but I dont know what to do. He is hot, and I want to see his di**. What should I do?',\n",
       "       'Which races have the smallest penis?',\n",
       "       'Why do females find penises ugly?',\n",
       "       'How do I marry an American woman for a Green Card? How much do they charge?',\n",
       "       \"Why do Europeans say they're the superior race, when in fact it took them over 2,000 years until mid 19th century to surpass China's largest economy?\",\n",
       "       'Did Julius Caesar bring a tyrannosaurus rex on his campaigns to frighten the Celts into submission?',\n",
       "       \"In what manner has Republican backing of 'states rights' been hypocritical and what ways have they actually restricted the ability of states to make their own laws?\"],\n",
       "      dtype=object)"
      ]
     },
     "execution_count": 15,
     "metadata": {},
     "output_type": "execute_result"
    }
   ],
   "source": [
    "insincere_df.question_text.values[:10]"
   ]
  },
  {
   "cell_type": "code",
   "execution_count": 16,
   "id": "4b067fd8-3363-4bdd-85e4-1dbf9a327fd9",
   "metadata": {},
   "outputs": [
    {
     "data": {
      "text/plain": [
       "0    0.93813\n",
       "1    0.06187\n",
       "Name: target, dtype: float64"
      ]
     },
     "execution_count": 16,
     "metadata": {},
     "output_type": "execute_result"
    }
   ],
   "source": [
    "raw_df.target.value_counts(normalize=True)"
   ]
  },
  {
   "cell_type": "code",
   "execution_count": 17,
   "id": "3abf0f05-27ac-423b-9546-41fc5b34a2ca",
   "metadata": {},
   "outputs": [
    {
     "data": {
      "text/plain": [
       "<AxesSubplot: >"
      ]
     },
     "execution_count": 17,
     "metadata": {},
     "output_type": "execute_result"
    },
    {
     "data": {
      "image/png": "[encoded data removed]",
      "text/plain": [
       "<Figure size 640x480 with 1 Axes>"
      ]
     },
     "metadata": {},
     "output_type": "display_data"
    }
   ],
   "source": [
    "raw_df.target.value_counts(normalize=True).plot(kind='bar')"
   ]
  },
  {
   "cell_type": "code",
   "execution_count": 18,
   "id": "048352ad-6d4c-4503-a208-7b14d6311949",
   "metadata": {},
   "outputs": [],
   "source": [
    "test_df = pd.read_csv(test_fname)"
   ]
  },
  {
   "cell_type": "code",
   "execution_count": 19,
   "id": "1a75e924-bc94-42ff-99a2-45b98596f5e7",
   "metadata": {},
   "outputs": [
    {
     "data": {
      "text/html": [
       "<div>\n",
       "<style scoped>\n",
       "    .dataframe tbody tr th:only-of-type {\n",
       "        vertical-align: middle;\n",
       "    }\n",
       "\n",
       "    .dataframe tbody tr th {\n",
       "        vertical-align: top;\n",
       "    }\n",
       "\n",
       "    .dataframe thead th {\n",
       "        text-align: right;\n",
       "    }\n",
       "</style>\n",
       "<table border=\"1\" class=\"dataframe\">\n",
       "  <thead>\n",
       "    <tr style=\"text-align: right;\">\n",
       "      <th></th>\n",
       "      <th>qid</th>\n",
       "      <th>question_text</th>\n",
       "    </tr>\n",
       "  </thead>\n",
       "  <tbody>\n",
       "    <tr>\n",
       "      <th>0</th>\n",
       "      <td>0000163e3ea7c7a74cd7</td>\n",
       "      <td>Why do so many women become so rude and arroga...</td>\n",
       "    </tr>\n",
       "    <tr>\n",
       "      <th>1</th>\n",
       "      <td>00002bd4fb5d505b9161</td>\n",
       "      <td>When should I apply for RV college of engineer...</td>\n",
       "    </tr>\n",
       "    <tr>\n",
       "      <th>2</th>\n",
       "      <td>00007756b4a147d2b0b3</td>\n",
       "      <td>What is it really like to be a nurse practitio...</td>\n",
       "    </tr>\n",
       "    <tr>\n",
       "      <th>3</th>\n",
       "      <td>000086e4b7e1c7146103</td>\n",
       "      <td>Who are entrepreneurs?</td>\n",
       "    </tr>\n",
       "    <tr>\n",
       "      <th>4</th>\n",
       "      <td>0000c4c3fbe8785a3090</td>\n",
       "      <td>Is education really making good people nowadays?</td>\n",
       "    </tr>\n",
       "    <tr>\n",
       "      <th>...</th>\n",
       "      <td>...</td>\n",
       "      <td>...</td>\n",
       "    </tr>\n",
       "    <tr>\n",
       "      <th>375801</th>\n",
       "      <td>ffff7fa746bd6d6197a9</td>\n",
       "      <td>How many countries listed in gold import in in...</td>\n",
       "    </tr>\n",
       "    <tr>\n",
       "      <th>375802</th>\n",
       "      <td>ffffa1be31c43046ab6b</td>\n",
       "      <td>Is there an alternative to dresses on formal p...</td>\n",
       "    </tr>\n",
       "    <tr>\n",
       "      <th>375803</th>\n",
       "      <td>ffffae173b6ca6bfa563</td>\n",
       "      <td>Where I can find best friendship quotes in Tel...</td>\n",
       "    </tr>\n",
       "    <tr>\n",
       "      <th>375804</th>\n",
       "      <td>ffffb1f7f1a008620287</td>\n",
       "      <td>What are the causes of refraction of light?</td>\n",
       "    </tr>\n",
       "    <tr>\n",
       "      <th>375805</th>\n",
       "      <td>fffff85473f4699474b0</td>\n",
       "      <td>Climate change is a worrying topic. How much t...</td>\n",
       "    </tr>\n",
       "  </tbody>\n",
       "</table>\n",
       "<p>375806 rows × 2 columns</p>\n",
       "</div>"
      ],
      "text/plain": [
       "                         qid  \\\n",
       "0       0000163e3ea7c7a74cd7   \n",
       "1       00002bd4fb5d505b9161   \n",
       "2       00007756b4a147d2b0b3   \n",
       "3       000086e4b7e1c7146103   \n",
       "4       0000c4c3fbe8785a3090   \n",
       "...                      ...   \n",
       "375801  ffff7fa746bd6d6197a9   \n",
       "375802  ffffa1be31c43046ab6b   \n",
       "375803  ffffae173b6ca6bfa563   \n",
       "375804  ffffb1f7f1a008620287   \n",
       "375805  fffff85473f4699474b0   \n",
       "\n",
       "                                            question_text  \n",
       "0       Why do so many women become so rude and arroga...  \n",
       "1       When should I apply for RV college of engineer...  \n",
       "2       What is it really like to be a nurse practitio...  \n",
       "3                                  Who are entrepreneurs?  \n",
       "4        Is education really making good people nowadays?  \n",
       "...                                                   ...  \n",
       "375801  How many countries listed in gold import in in...  \n",
       "375802  Is there an alternative to dresses on formal p...  \n",
       "375803  Where I can find best friendship quotes in Tel...  \n",
       "375804        What are the causes of refraction of light?  \n",
       "375805  Climate change is a worrying topic. How much t...  \n",
       "\n",
       "[375806 rows x 2 columns]"
      ]
     },
     "execution_count": 19,
     "metadata": {},
     "output_type": "execute_result"
    }
   ],
   "source": [
    "test_df"
   ]
  },
  {
   "cell_type": "code",
   "execution_count": 23,
   "id": "acfdc30b-242d-4962-93e9-25cc516e0956",
   "metadata": {},
   "outputs": [],
   "source": [
    "sub_df = pd.read_csv(smaple_submission_fname)"
   ]
  },
  {
   "cell_type": "code",
   "execution_count": 24,
   "id": "6b206dba-d49f-46a4-899f-243730c39688",
   "metadata": {},
   "outputs": [
    {
     "data": {
      "text/html": [
       "<div>\n",
       "<style scoped>\n",
       "    .dataframe tbody tr th:only-of-type {\n",
       "        vertical-align: middle;\n",
       "    }\n",
       "\n",
       "    .dataframe tbody tr th {\n",
       "        vertical-align: top;\n",
       "    }\n",
       "\n",
       "    .dataframe thead th {\n",
       "        text-align: right;\n",
       "    }\n",
       "</style>\n",
       "<table border=\"1\" class=\"dataframe\">\n",
       "  <thead>\n",
       "    <tr style=\"text-align: right;\">\n",
       "      <th></th>\n",
       "      <th>qid</th>\n",
       "      <th>prediction</th>\n",
       "    </tr>\n",
       "  </thead>\n",
       "  <tbody>\n",
       "    <tr>\n",
       "      <th>0</th>\n",
       "      <td>0000163e3ea7c7a74cd7</td>\n",
       "      <td>0</td>\n",
       "    </tr>\n",
       "    <tr>\n",
       "      <th>1</th>\n",
       "      <td>00002bd4fb5d505b9161</td>\n",
       "      <td>0</td>\n",
       "    </tr>\n",
       "    <tr>\n",
       "      <th>2</th>\n",
       "      <td>00007756b4a147d2b0b3</td>\n",
       "      <td>0</td>\n",
       "    </tr>\n",
       "    <tr>\n",
       "      <th>3</th>\n",
       "      <td>000086e4b7e1c7146103</td>\n",
       "      <td>0</td>\n",
       "    </tr>\n",
       "    <tr>\n",
       "      <th>4</th>\n",
       "      <td>0000c4c3fbe8785a3090</td>\n",
       "      <td>0</td>\n",
       "    </tr>\n",
       "    <tr>\n",
       "      <th>...</th>\n",
       "      <td>...</td>\n",
       "      <td>...</td>\n",
       "    </tr>\n",
       "    <tr>\n",
       "      <th>375801</th>\n",
       "      <td>ffff7fa746bd6d6197a9</td>\n",
       "      <td>0</td>\n",
       "    </tr>\n",
       "    <tr>\n",
       "      <th>375802</th>\n",
       "      <td>ffffa1be31c43046ab6b</td>\n",
       "      <td>0</td>\n",
       "    </tr>\n",
       "    <tr>\n",
       "      <th>375803</th>\n",
       "      <td>ffffae173b6ca6bfa563</td>\n",
       "      <td>0</td>\n",
       "    </tr>\n",
       "    <tr>\n",
       "      <th>375804</th>\n",
       "      <td>ffffb1f7f1a008620287</td>\n",
       "      <td>0</td>\n",
       "    </tr>\n",
       "    <tr>\n",
       "      <th>375805</th>\n",
       "      <td>fffff85473f4699474b0</td>\n",
       "      <td>0</td>\n",
       "    </tr>\n",
       "  </tbody>\n",
       "</table>\n",
       "<p>375806 rows × 2 columns</p>\n",
       "</div>"
      ],
      "text/plain": [
       "                         qid  prediction\n",
       "0       0000163e3ea7c7a74cd7           0\n",
       "1       00002bd4fb5d505b9161           0\n",
       "2       00007756b4a147d2b0b3           0\n",
       "3       000086e4b7e1c7146103           0\n",
       "4       0000c4c3fbe8785a3090           0\n",
       "...                      ...         ...\n",
       "375801  ffff7fa746bd6d6197a9           0\n",
       "375802  ffffa1be31c43046ab6b           0\n",
       "375803  ffffae173b6ca6bfa563           0\n",
       "375804  ffffb1f7f1a008620287           0\n",
       "375805  fffff85473f4699474b0           0\n",
       "\n",
       "[375806 rows x 2 columns]"
      ]
     },
     "execution_count": 24,
     "metadata": {},
     "output_type": "execute_result"
    }
   ],
   "source": [
    "sub_df"
   ]
  },
  {
   "cell_type": "code",
   "execution_count": 25,
   "id": "477f5a88-2e33-4d46-a7b9-404821cba3dd",
   "metadata": {},
   "outputs": [
    {
     "data": {
      "text/plain": [
       "0    375806\n",
       "Name: prediction, dtype: int64"
      ]
     },
     "execution_count": 25,
     "metadata": {},
     "output_type": "execute_result"
    }
   ],
   "source": [
    "sub_df.prediction.value_counts() # this is the sample submission data where all the target value is 0"
   ]
  },
  {
   "cell_type": "markdown",
   "id": "cdbfdf9b-b96a-4ac8-8952-a8fffcd39fb6",
   "metadata": {},
   "source": [
    "# Create a Working Sample"
   ]
  },
  {
   "cell_type": "code",
   "execution_count": 26,
   "id": "d652181d-621f-4ac7-961b-571579320c39",
   "metadata": {},
   "outputs": [],
   "source": [
    "SAMPLE_SIZE = 100_000 # working with these huge amount of data can become a little difficult, so we will work on small dataset"
   ]
  },
  {
   "cell_type": "code",
   "execution_count": 27,
   "id": "d2c95f65-7328-4132-8dcd-8761750b95b7",
   "metadata": {},
   "outputs": [],
   "source": [
    "sample_df = raw_df.sample(SAMPLE_SIZE, random_state=42)"
   ]
  },
  {
   "cell_type": "code",
   "execution_count": 28,
   "id": "c34728f2-860b-4a80-8107-37b056db6034",
   "metadata": {},
   "outputs": [
    {
     "data": {
      "text/html": [
       "<div>\n",
       "<style scoped>\n",
       "    .dataframe tbody tr th:only-of-type {\n",
       "        vertical-align: middle;\n",
       "    }\n",
       "\n",
       "    .dataframe tbody tr th {\n",
       "        vertical-align: top;\n",
       "    }\n",
       "\n",
       "    .dataframe thead th {\n",
       "        text-align: right;\n",
       "    }\n",
       "</style>\n",
       "<table border=\"1\" class=\"dataframe\">\n",
       "  <thead>\n",
       "    <tr style=\"text-align: right;\">\n",
       "      <th></th>\n",
       "      <th>qid</th>\n",
       "      <th>question_text</th>\n",
       "      <th>target</th>\n",
       "    </tr>\n",
       "  </thead>\n",
       "  <tbody>\n",
       "    <tr>\n",
       "      <th>443046</th>\n",
       "      <td>56d324bb1e2c29f43b12</td>\n",
       "      <td>What is the most effective classroom managemen...</td>\n",
       "      <td>0</td>\n",
       "    </tr>\n",
       "    <tr>\n",
       "      <th>947549</th>\n",
       "      <td>b9ad893dc78c577f8a63</td>\n",
       "      <td>Can I study abroad after 10th class from Bangl...</td>\n",
       "      <td>0</td>\n",
       "    </tr>\n",
       "    <tr>\n",
       "      <th>523769</th>\n",
       "      <td>6689ebaeeb65b209a412</td>\n",
       "      <td>How can I make friends as a college junior?</td>\n",
       "      <td>0</td>\n",
       "    </tr>\n",
       "    <tr>\n",
       "      <th>949821</th>\n",
       "      <td>ba1e2c4a0fef09671516</td>\n",
       "      <td>How do I download free APK Minecraft: Pocket E...</td>\n",
       "      <td>0</td>\n",
       "    </tr>\n",
       "    <tr>\n",
       "      <th>1030397</th>\n",
       "      <td>c9ea2b69bf0d74626f46</td>\n",
       "      <td>Like Kuvera, is \"Groww\" also a free online inv...</td>\n",
       "      <td>0</td>\n",
       "    </tr>\n",
       "    <tr>\n",
       "      <th>...</th>\n",
       "      <td>...</td>\n",
       "      <td>...</td>\n",
       "      <td>...</td>\n",
       "    </tr>\n",
       "    <tr>\n",
       "      <th>998930</th>\n",
       "      <td>c3c03a307a29c69971b4</td>\n",
       "      <td>How do I research list of reliable charcoal im...</td>\n",
       "      <td>0</td>\n",
       "    </tr>\n",
       "    <tr>\n",
       "      <th>66641</th>\n",
       "      <td>0d119aba95ee6684f506</td>\n",
       "      <td>What are petroleum products, and what is petro...</td>\n",
       "      <td>0</td>\n",
       "    </tr>\n",
       "    <tr>\n",
       "      <th>90024</th>\n",
       "      <td>11a46cd148a104b271cf</td>\n",
       "      <td>What are some services that will let you quick...</td>\n",
       "      <td>0</td>\n",
       "    </tr>\n",
       "    <tr>\n",
       "      <th>130113</th>\n",
       "      <td>1973e6e2111a0c93193a</td>\n",
       "      <td>What credit card processors do online marketpl...</td>\n",
       "      <td>0</td>\n",
       "    </tr>\n",
       "    <tr>\n",
       "      <th>1137</th>\n",
       "      <td>0037ed037520d82393c0</td>\n",
       "      <td>On which number system does a computer work?</td>\n",
       "      <td>0</td>\n",
       "    </tr>\n",
       "  </tbody>\n",
       "</table>\n",
       "<p>100000 rows × 3 columns</p>\n",
       "</div>"
      ],
      "text/plain": [
       "                          qid  \\\n",
       "443046   56d324bb1e2c29f43b12   \n",
       "947549   b9ad893dc78c577f8a63   \n",
       "523769   6689ebaeeb65b209a412   \n",
       "949821   ba1e2c4a0fef09671516   \n",
       "1030397  c9ea2b69bf0d74626f46   \n",
       "...                       ...   \n",
       "998930   c3c03a307a29c69971b4   \n",
       "66641    0d119aba95ee6684f506   \n",
       "90024    11a46cd148a104b271cf   \n",
       "130113   1973e6e2111a0c93193a   \n",
       "1137     0037ed037520d82393c0   \n",
       "\n",
       "                                             question_text  target  \n",
       "443046   What is the most effective classroom managemen...       0  \n",
       "947549   Can I study abroad after 10th class from Bangl...       0  \n",
       "523769         How can I make friends as a college junior?       0  \n",
       "949821   How do I download free APK Minecraft: Pocket E...       0  \n",
       "1030397  Like Kuvera, is \"Groww\" also a free online inv...       0  \n",
       "...                                                    ...     ...  \n",
       "998930   How do I research list of reliable charcoal im...       0  \n",
       "66641    What are petroleum products, and what is petro...       0  \n",
       "90024    What are some services that will let you quick...       0  \n",
       "130113   What credit card processors do online marketpl...       0  \n",
       "1137          On which number system does a computer work?       0  \n",
       "\n",
       "[100000 rows x 3 columns]"
      ]
     },
     "execution_count": 28,
     "metadata": {},
     "output_type": "execute_result"
    }
   ],
   "source": [
    "sample_df"
   ]
  },
  {
   "attachments": {
    "2d35d282-7eed-45a6-82fc-bb20a050c4b3.png": {
     "image/png": "[encoded data removed]"
    },
    "f6be349c-61b4-43fa-a552-71316eae86a8.png": {
     "image/png": "[encoded data removed]"
    }
   },
   "cell_type": "markdown",
   "id": "59a79bb3-9d14-4158-b11f-36652e6f43b1",
   "metadata": {},
   "source": [
    "# Text Preprocessing Techniques\n",
    "\n",
    "Outline:\n",
    "\n",
    "1. Understand the bag of words model\n",
    "2. Tokenization\n",
    "3. Stop word removal\n",
    "4. Stemming\n",
    "\n",
    "# 1. Bag of Words Intuition\n",
    "\n",
    "1. Create a list of all the words across all the text documents.\n",
    "2. You convert each document into vector counts of each word, converting it into integer vector, bcz machine can understand only numbers.\n",
    "![image.png](attachment:f6be349c-61b4-43fa-a552-71316eae86a8.png)\n",
    "\n",
    "3. now we are left with the vectors, which is called document vector.<br>\n",
    "![image.png](attachment:2d35d282-7eed-45a6-82fc-bb20a050c4b3.png)\n",
    "\n",
    "Limitations:\n",
    "1. There may be too many words in the dataset so we have 1.3 millions data in dataset and it may contain 100_000 of words that make vectors very large each docuemnt is the size o 100_000 and that even won't fit in the memory.\n",
    "\n",
    "2. Some words may occur too frequently (eg :- the, is ...)\n",
    "3. Some words may occur very rarely or only once that is need to remove bcz they won't decide a document is sincere or not.\n",
    "4. A single word may have many forms (go, gone, going or bird vs. birds so that is the thing these word should get count under the same root word, so that's y we perform several preprocessing techniques before creating the bagof words model)\n",
    "\n",
    "# 2. Tokenization\n",
    "\n",
    "Tokenization is simply the process of splitting a document into words and separators(we also need to deal with ',', punctuation, brackets, etc)."
   ]
  },
  {
   "cell_type": "code",
   "execution_count": 30,
   "id": "14d1ebe3-8eca-4790-8f71-639719f03b62",
   "metadata": {},
   "outputs": [
    {
     "data": {
      "text/plain": [
       "'Do you have an adopted dog, how would you encourage people to adopt and not shop?'"
      ]
     },
     "execution_count": 30,
     "metadata": {},
     "output_type": "execute_result"
    }
   ],
   "source": [
    "# pciking up a question from sincere dataframe\n",
    "q0 = sincere_df.question_text.values[1]\n",
    "q0"
   ]
  },
  {
   "cell_type": "code",
   "execution_count": 31,
   "id": "f6dcdce0-7cef-436e-a947-5af9d6ea2c2a",
   "metadata": {},
   "outputs": [
    {
     "data": {
      "text/plain": [
       "'Has the United States become the largest dictatorship in the world?'"
      ]
     },
     "execution_count": 31,
     "metadata": {},
     "output_type": "execute_result"
    }
   ],
   "source": [
    "# picking up a question from insincere dataframe\n",
    "q1 = insincere_df.question_text.values[0]\n",
    "q1"
   ]
  },
  {
   "cell_type": "code",
   "execution_count": 32,
   "id": "e98e0587-c67d-4c29-8213-9bcc555bd908",
   "metadata": {},
   "outputs": [],
   "source": [
    "# Tokenization -> splitting a document into words and sepearators\n",
    "# so the way we tokenize either we can split along the spaces or we can use a tool which detects punctuations properly\n",
    "from nltk.tokenize import word_tokenize # this lib can detect puntuations too"
   ]
  },
  {
   "cell_type": "code",
   "execution_count": 33,
   "id": "23108e78-ce17-405f-a8f7-450f431cd241",
   "metadata": {},
   "outputs": [
    {
     "data": {
      "text/plain": [
       "'Do you have an adopted dog, how would you encourage people to adopt and not shop?'"
      ]
     },
     "execution_count": 33,
     "metadata": {},
     "output_type": "execute_result"
    }
   ],
   "source": [
    "q0"
   ]
  },
  {
   "cell_type": "code",
   "execution_count": 37,
   "id": "4067d1ec-edf5-4f45-be81-a689169d8295",
   "metadata": {},
   "outputs": [],
   "source": [
    "import nltk"
   ]
  },
  {
   "cell_type": "code",
   "execution_count": 38,
   "id": "bea38d9c-bab0-4b3e-933d-159baf9606f2",
   "metadata": {},
   "outputs": [
    {
     "name": "stderr",
     "output_type": "stream",
     "text": [
      "[nltk_data] Downloading package punkt to\n",
      "[nltk_data]     C:\\Users\\dhara\\AppData\\Roaming\\nltk_data...\n",
      "[nltk_data]   Unzipping tokenizers\\punkt.zip.\n"
     ]
    },
    {
     "data": {
      "text/plain": [
       "True"
      ]
     },
     "execution_count": 38,
     "metadata": {},
     "output_type": "execute_result"
    }
   ],
   "source": [
    "nltk.download('punkt') # its the dictionary of punctuation's"
   ]
  },
  {
   "cell_type": "code",
   "execution_count": 39,
   "id": "27118259-725b-4846-b1b0-c3f5f68fe1c4",
   "metadata": {},
   "outputs": [
    {
     "data": {
      "text/plain": [
       "['Do',\n",
       " 'you',\n",
       " 'have',\n",
       " 'an',\n",
       " 'adopted',\n",
       " 'dog',\n",
       " ',',\n",
       " 'how',\n",
       " 'would',\n",
       " 'you',\n",
       " 'encourage',\n",
       " 'people',\n",
       " 'to',\n",
       " 'adopt',\n",
       " 'and',\n",
       " 'not',\n",
       " 'shop',\n",
       " '?']"
      ]
     },
     "execution_count": 39,
     "metadata": {},
     "output_type": "execute_result"
    }
   ],
   "source": [
    "word_tokenize(q0) # q0 got split into bunches of tokens"
   ]
  },
  {
   "cell_type": "code",
   "execution_count": 40,
   "id": "69e3917e-9f47-4375-981b-4e29feb5576e",
   "metadata": {},
   "outputs": [
    {
     "data": {
      "text/plain": [
       "['this',\n",
       " 'is',\n",
       " '(',\n",
       " 'something',\n",
       " ')',\n",
       " 'with',\n",
       " ',',\n",
       " 'a',\n",
       " 'lot',\n",
       " 'of',\n",
       " ',',\n",
       " 'punctuation',\n",
       " ';']"
      ]
     },
     "execution_count": 40,
     "metadata": {},
     "output_type": "execute_result"
    }
   ],
   "source": [
    "# we can also tokenize our own example\n",
    "word_tokenize(\"this is (something) with, a lot of, punctuation;\")"
   ]
  },
  {
   "cell_type": "code",
   "execution_count": 41,
   "id": "653f37ce-7875-446a-b08f-ad9e8f139bd6",
   "metadata": {},
   "outputs": [
    {
     "data": {
      "text/plain": [
       "['Has',\n",
       " 'the',\n",
       " 'United',\n",
       " 'States',\n",
       " 'become',\n",
       " 'the',\n",
       " 'largest',\n",
       " 'dictatorship',\n",
       " 'in',\n",
       " 'the',\n",
       " 'world',\n",
       " '?']"
      ]
     },
     "execution_count": 41,
     "metadata": {},
     "output_type": "execute_result"
    }
   ],
   "source": [
    "# tokenizing q1\n",
    "word_tokenize(q1)"
   ]
  },
  {
   "cell_type": "code",
   "execution_count": 42,
   "id": "7f971375-c022-45bd-9fb9-c47eceb3717e",
   "metadata": {},
   "outputs": [],
   "source": [
    "q0_tok = word_tokenize(q0)\n",
    "q1_tok = word_tokenize(q1)"
   ]
  },
  {
   "cell_type": "markdown",
   "id": "8597e32e-95c8-44ff-934b-996b5395533b",
   "metadata": {},
   "source": [
    "# 3. Stop words Removal\n",
    "It s simply the process of removal of commonly occurring word"
   ]
  },
  {
   "cell_type": "code",
   "execution_count": 43,
   "id": "63cb166b-3908-480b-9720-78fed6e5344f",
   "metadata": {},
   "outputs": [],
   "source": [
    "from nltk.corpus import stopwords"
   ]
  },
  {
   "cell_type": "code",
   "execution_count": 44,
   "id": "938cfd17-bf45-4874-92f0-cb8e9c027062",
   "metadata": {},
   "outputs": [
    {
     "name": "stderr",
     "output_type": "stream",
     "text": [
      "[nltk_data] Downloading package stopwords to\n",
      "[nltk_data]     C:\\Users\\dhara\\AppData\\Roaming\\nltk_data...\n",
      "[nltk_data]   Unzipping corpora\\stopwords.zip.\n"
     ]
    },
    {
     "data": {
      "text/plain": [
       "True"
      ]
     },
     "execution_count": 44,
     "metadata": {},
     "output_type": "execute_result"
    }
   ],
   "source": [
    "nltk.download('stopwords')"
   ]
  },
  {
   "cell_type": "code",
   "execution_count": 45,
   "id": "2a24f52a-df4a-49bd-be5f-2eb3116575bf",
   "metadata": {},
   "outputs": [],
   "source": [
    "english_stopwords = stopwords.words('english')"
   ]
  },
  {
   "cell_type": "code",
   "execution_count": 46,
   "id": "319ee07b-d28f-4a47-84d8-bc5b33cbbaac",
   "metadata": {},
   "outputs": [
    {
     "data": {
      "text/plain": [
       "['i',\n",
       " 'me',\n",
       " 'my',\n",
       " 'myself',\n",
       " 'we',\n",
       " 'our',\n",
       " 'ours',\n",
       " 'ourselves',\n",
       " 'you',\n",
       " \"you're\",\n",
       " \"you've\",\n",
       " \"you'll\",\n",
       " \"you'd\",\n",
       " 'your',\n",
       " 'yours',\n",
       " 'yourself',\n",
       " 'yourselves',\n",
       " 'he',\n",
       " 'him',\n",
       " 'his',\n",
       " 'himself',\n",
       " 'she',\n",
       " \"she's\",\n",
       " 'her',\n",
       " 'hers',\n",
       " 'herself',\n",
       " 'it',\n",
       " \"it's\",\n",
       " 'its',\n",
       " 'itself',\n",
       " 'they',\n",
       " 'them',\n",
       " 'their',\n",
       " 'theirs',\n",
       " 'themselves',\n",
       " 'what',\n",
       " 'which',\n",
       " 'who',\n",
       " 'whom',\n",
       " 'this',\n",
       " 'that',\n",
       " \"that'll\",\n",
       " 'these',\n",
       " 'those',\n",
       " 'am',\n",
       " 'is',\n",
       " 'are',\n",
       " 'was',\n",
       " 'were',\n",
       " 'be',\n",
       " 'been',\n",
       " 'being',\n",
       " 'have',\n",
       " 'has',\n",
       " 'had',\n",
       " 'having',\n",
       " 'do',\n",
       " 'does',\n",
       " 'did',\n",
       " 'doing',\n",
       " 'a',\n",
       " 'an',\n",
       " 'the',\n",
       " 'and',\n",
       " 'but',\n",
       " 'if',\n",
       " 'or',\n",
       " 'because',\n",
       " 'as',\n",
       " 'until',\n",
       " 'while',\n",
       " 'of',\n",
       " 'at',\n",
       " 'by',\n",
       " 'for',\n",
       " 'with',\n",
       " 'about',\n",
       " 'against',\n",
       " 'between',\n",
       " 'into',\n",
       " 'through',\n",
       " 'during',\n",
       " 'before',\n",
       " 'after',\n",
       " 'above',\n",
       " 'below',\n",
       " 'to',\n",
       " 'from',\n",
       " 'up',\n",
       " 'down',\n",
       " 'in',\n",
       " 'out',\n",
       " 'on',\n",
       " 'off',\n",
       " 'over',\n",
       " 'under',\n",
       " 'again',\n",
       " 'further',\n",
       " 'then',\n",
       " 'once',\n",
       " 'here',\n",
       " 'there',\n",
       " 'when',\n",
       " 'where',\n",
       " 'why',\n",
       " 'how',\n",
       " 'all',\n",
       " 'any',\n",
       " 'both',\n",
       " 'each',\n",
       " 'few',\n",
       " 'more',\n",
       " 'most',\n",
       " 'other',\n",
       " 'some',\n",
       " 'such',\n",
       " 'no',\n",
       " 'nor',\n",
       " 'not',\n",
       " 'only',\n",
       " 'own',\n",
       " 'same',\n",
       " 'so',\n",
       " 'than',\n",
       " 'too',\n",
       " 'very',\n",
       " 's',\n",
       " 't',\n",
       " 'can',\n",
       " 'will',\n",
       " 'just',\n",
       " 'don',\n",
       " \"don't\",\n",
       " 'should',\n",
       " \"should've\",\n",
       " 'now',\n",
       " 'd',\n",
       " 'll',\n",
       " 'm',\n",
       " 'o',\n",
       " 're',\n",
       " 've',\n",
       " 'y',\n",
       " 'ain',\n",
       " 'aren',\n",
       " \"aren't\",\n",
       " 'couldn',\n",
       " \"couldn't\",\n",
       " 'didn',\n",
       " \"didn't\",\n",
       " 'doesn',\n",
       " \"doesn't\",\n",
       " 'hadn',\n",
       " \"hadn't\",\n",
       " 'hasn',\n",
       " \"hasn't\",\n",
       " 'haven',\n",
       " \"haven't\",\n",
       " 'isn',\n",
       " \"isn't\",\n",
       " 'ma',\n",
       " 'mightn',\n",
       " \"mightn't\",\n",
       " 'mustn',\n",
       " \"mustn't\",\n",
       " 'needn',\n",
       " \"needn't\",\n",
       " 'shan',\n",
       " \"shan't\",\n",
       " 'shouldn',\n",
       " \"shouldn't\",\n",
       " 'wasn',\n",
       " \"wasn't\",\n",
       " 'weren',\n",
       " \"weren't\",\n",
       " 'won',\n",
       " \"won't\",\n",
       " 'wouldn',\n",
       " \"wouldn't\"]"
      ]
     },
     "execution_count": 46,
     "metadata": {},
     "output_type": "execute_result"
    }
   ],
   "source": [
    "english_stopwords"
   ]
  },
  {
   "cell_type": "code",
   "execution_count": 47,
   "id": "6f93cd0a-bcd6-4254-b3a3-c145bf1531f9",
   "metadata": {},
   "outputs": [
    {
     "data": {
      "text/plain": [
       "\"i, me, my, myself, we, our, ours, ourselves, you, you're, you've, you'll, you'd, your, yours, yourself, yourselves, he, him, his, himself, she, she's, her, hers, herself, it, it's, its, itself, they, them, their, theirs, themselves, what, which, who, whom, this, that, that'll, these, those, am, is, are, was, were, be, been, being, have, has, had, having, do, does, did, doing, a, an, the, and, but, if, or, because, as, until, while, of, at, by, for, with, about, against, between, into, through, during, before, after, above, below, to, from, up, down, in, out, on, off, over, under, again, further, then, once, here, there, when, where, why, how, all, any, both, each, few, more, most, other, some, such, no, nor, not, only, own, same, so, than, too, very, s, t, can, will, just, don, don't, should, should've, now, d, ll, m, o, re, ve, y, ain, aren, aren't, couldn, couldn't, didn, didn't, doesn, doesn't, hadn, hadn't, hasn, hasn't, haven, haven't, isn, isn't, ma, mightn, mightn't, mustn, mustn't, needn, needn't, shan, shan't, shouldn, shouldn't, wasn, wasn't, weren, weren't, won, won't, wouldn, wouldn't\""
      ]
     },
     "execution_count": 47,
     "metadata": {},
     "output_type": "execute_result"
    }
   ],
   "source": [
    "# a good way to see all the words\n",
    "\", \".join(english_stopwords)\n",
    "# One thing it will be noticed here words like not, couldn't, didn't etc ... also show up here, so for the purpose\n",
    "# text classification(like sincere and insincere ques) this may not be something need to worry about\n",
    "# but for the sentimental analysis we may want to retain some of these stop words\n",
    "\n",
    "# so there is always a suggestion to look through all the stop word and decide if you want to use the stop words\n",
    "# and pick all those stop word you only want in use"
   ]
  },
  {
   "cell_type": "code",
   "execution_count": 51,
   "id": "738cd95b-c2c9-4dac-85be-71d17b3006c6",
   "metadata": {},
   "outputs": [],
   "source": [
    "# so how we remove stop words\n",
    "\n",
    "# one warning here all the words in stop_words are in lower case but in our data we dont have the word in\n",
    "# lower case which is need to be done\n",
    "\n",
    "# def remove_stopwords(tokens):\n",
    "#     return [word for word in tokens if word.lower() not in english_stopwords]\n",
    "\n",
    "def remove_stopwords(tokens): # this fun takes list of tokens and remove the stop words\n",
    "    l = []\n",
    "    for word in tokens:\n",
    "        if word.lower() not in english_stopwords:\n",
    "            l.append(word)\n",
    "    \n",
    "    return l"
   ]
  },
  {
   "cell_type": "code",
   "execution_count": 52,
   "id": "4ecb6f36-6d76-447e-a79b-934260a3836f",
   "metadata": {},
   "outputs": [
    {
     "data": {
      "text/plain": [
       "['adopted', 'dog', ',', 'would', 'encourage', 'people', 'adopt', 'shop', '?']"
      ]
     },
     "execution_count": 52,
     "metadata": {},
     "output_type": "execute_result"
    }
   ],
   "source": [
    "remove_stopwords(q0_tok)"
   ]
  },
  {
   "cell_type": "code",
   "execution_count": 53,
   "id": "cb886101-43fd-43a8-b6dd-fae300830690",
   "metadata": {},
   "outputs": [
    {
     "data": {
      "text/plain": [
       "['Do',\n",
       " 'you',\n",
       " 'have',\n",
       " 'an',\n",
       " 'adopted',\n",
       " 'dog',\n",
       " ',',\n",
       " 'how',\n",
       " 'would',\n",
       " 'you',\n",
       " 'encourage',\n",
       " 'people',\n",
       " 'to',\n",
       " 'adopt',\n",
       " 'and',\n",
       " 'not',\n",
       " 'shop',\n",
       " '?']"
      ]
     },
     "execution_count": 53,
     "metadata": {},
     "output_type": "execute_result"
    }
   ],
   "source": [
    "q0_tok"
   ]
  },
  {
   "cell_type": "code",
   "execution_count": 54,
   "id": "9232888b-84f4-45ab-af9e-998a5f3cbd45",
   "metadata": {},
   "outputs": [
    {
     "data": {
      "text/plain": [
       "['adopted', 'dog', ',', 'would', 'encourage', 'people', 'adopt', 'shop', '?']"
      ]
     },
     "execution_count": 54,
     "metadata": {},
     "output_type": "execute_result"
    }
   ],
   "source": [
    "q0_stp = remove_stopwords(q0_tok)\n",
    "q0_stp\n",
    "# so we can see we will now use some of the tokens now\n",
    "# so obviously the senetence is start loosing the meaning already but we are creaeting bag pf word which is\n",
    "# not really concerned about the order thst is one of the limitations of the bag of words and that's\n",
    "# how it is designed"
   ]
  },
  {
   "cell_type": "code",
   "execution_count": 55,
   "id": "c0d68de1-4868-42e5-a4f9-7a1dc297dcfe",
   "metadata": {},
   "outputs": [
    {
     "data": {
      "text/plain": [
       "['United', 'States', 'become', 'largest', 'dictatorship', 'world', '?']"
      ]
     },
     "execution_count": 55,
     "metadata": {},
     "output_type": "execute_result"
    }
   ],
   "source": [
    "q1_stp = remove_stopwords(q1_tok)\n",
    "q1_stp\n",
    "# now again we can see that bunch of words are gone away\n",
    "# this is already going to greatly reduce our vocabulary size bcz the most common words will be gone and this si going\n",
    "# to remove common words that is going to have unfaire effect on the machine learning model and prety\n",
    "# much occur in every questions so that what we have done stop word removal"
   ]
  },
  {
   "cell_type": "markdown",
   "id": "f7485179-0ceb-40db-9719-61ebd30e81fe",
   "metadata": {},
   "source": [
    "# 4. Stemming\n",
    "It is simply to turning things like 'go' 'gone' 'going' into its root word i.e. go\n",
    "\n",
    "Why do we do this?\n",
    "bcz in terms of frequency in terms of the meaning both these thing will have the exact same effect essentially\n",
    "when we are dealing with bag of words.\n",
    "so we want to reduce the vocabulary size and increase the frequency of the root word itself."
   ]
  },
  {
   "cell_type": "code",
   "execution_count": 56,
   "id": "722b9e18-d2ba-4e79-b09a-f1a4bda20b6b",
   "metadata": {},
   "outputs": [],
   "source": [
    "# there are differnt type of stemmer, but here we are going with snowball stemmer\n",
    "from nltk.stem.snowball import SnowballStemmer"
   ]
  },
  {
   "cell_type": "code",
   "execution_count": 57,
   "id": "b72aedeb-e96e-4c67-a611-b49727deb3d2",
   "metadata": {},
   "outputs": [],
   "source": [
    "# creating the object of english stemmer\n",
    "stemmer = SnowballStemmer(language='english')"
   ]
  },
  {
   "cell_type": "code",
   "execution_count": 58,
   "id": "9ee04ebe-4bbb-490b-a804-10ffa73cd067",
   "metadata": {},
   "outputs": [
    {
     "data": {
      "text/plain": [
       "'go'"
      ]
     },
     "execution_count": 58,
     "metadata": {},
     "output_type": "execute_result"
    }
   ],
   "source": [
    "stemmer.stem('going')"
   ]
  },
  {
   "cell_type": "code",
   "execution_count": 59,
   "id": "d9d62760-b3a1-462f-8636-cda79088a27d",
   "metadata": {},
   "outputs": [
    {
     "data": {
      "text/plain": [
       "'suppos'"
      ]
     },
     "execution_count": 59,
     "metadata": {},
     "output_type": "execute_result"
    }
   ],
   "source": [
    "stemmer.stem('supposedly')\n",
    "# some time it won't return sensible words bcz they just be the root of some potential family"
   ]
  },
  {
   "cell_type": "code",
   "execution_count": 60,
   "id": "525a9c72-1ad9-4d52-8c78-3486707752c7",
   "metadata": {},
   "outputs": [
    {
     "data": {
      "text/plain": [
       "['adopt', 'dog', ',', 'would', 'encourag', 'peopl', 'adopt', 'shop', '?']"
      ]
     },
     "execution_count": 60,
     "metadata": {},
     "output_type": "execute_result"
    }
   ],
   "source": [
    "q0_stm = [stemmer.stem(word) for word in q0_stp]\n",
    "q0_stm"
   ]
  },
  {
   "cell_type": "code",
   "execution_count": 61,
   "id": "2158a749-efec-4959-8359-918547c9c00c",
   "metadata": {},
   "outputs": [
    {
     "data": {
      "text/plain": [
       "['adopted', 'dog', ',', 'would', 'encourage', 'people', 'adopt', 'shop', '?']"
      ]
     },
     "execution_count": 61,
     "metadata": {},
     "output_type": "execute_result"
    }
   ],
   "source": [
    "q0_stp"
   ]
  },
  {
   "cell_type": "code",
   "execution_count": 62,
   "id": "62a12933-767b-4046-a728-0789285f9900",
   "metadata": {},
   "outputs": [
    {
     "data": {
      "text/plain": [
       "(['unit', 'state', 'becom', 'largest', 'dictatorship', 'world', '?'],\n",
       " ['United', 'States', 'become', 'largest', 'dictatorship', 'world', '?'])"
      ]
     },
     "execution_count": 62,
     "metadata": {},
     "output_type": "execute_result"
    }
   ],
   "source": [
    "q1_stm = [stemmer.stem(word) for word in q1_stp]\n",
    "q1_stm, q1_stp"
   ]
  },
  {
   "cell_type": "markdown",
   "id": "3ef564d2-4792-417a-b403-a779624b3bc7",
   "metadata": {},
   "source": [
    "# 4. lemmatization\n",
    "This reduce the word to a word which actually make sense.\n",
    "\n",
    "Here what is done -> let say we have the word \n",
    "love -> love\n",
    "loving -> love, lemmatization would remove ing and add the e and how would it know to add the e bcz lemmatization is going to look into a dictionary for the root words\n",
    "lovable -> love\n",
    "\n",
    "so if you want more human friendly form of the word you can use lemmatization"
   ]
  },
  {
   "cell_type": "code",
   "execution_count": 63,
   "id": "d432bf07-de97-4b89-ac7c-b677ecd9a94c",
   "metadata": {},
   "outputs": [],
   "source": [
    "from nltk.stem import WordNetLemmatizer\n",
    "from nltk.corpus import wordnet"
   ]
  },
  {
   "cell_type": "code",
   "execution_count": 66,
   "id": "de8323ec-bb71-4498-b35f-55ee51d32cde",
   "metadata": {},
   "outputs": [
    {
     "name": "stderr",
     "output_type": "stream",
     "text": [
      "[nltk_data] Downloading package wordnet to\n",
      "[nltk_data]     C:\\Users\\dhara\\AppData\\Roaming\\nltk_data...\n"
     ]
    },
    {
     "data": {
      "text/plain": [
       "True"
      ]
     },
     "execution_count": 66,
     "metadata": {},
     "output_type": "execute_result"
    }
   ],
   "source": [
    "nltk.download('wordnet')"
   ]
  },
  {
   "cell_type": "code",
   "execution_count": 64,
   "id": "9c7dd27f-f147-4296-9f4f-cd15b6a41a28",
   "metadata": {},
   "outputs": [],
   "source": [
    "lemmatizer = WordNetLemmatizer()\n",
    "# lemmatization is generally not used by building bag of words bcz it requires looking up a dictionary\n",
    "# which can be fairly slow especially for bag of words or when you have a large dictionary and it also take up large memory\n",
    "# bcz we are going to turn our documents to vector any way, it doen't matter that the short form is root of a word or its an actual\n",
    "# word from the dictionary so here we will not be using lemmatization\n",
    "\n",
    "# aprt from this nltk allows you to recognize parts of speech(pos) and many other thing"
   ]
  },
  {
   "cell_type": "code",
   "execution_count": 68,
   "id": "22869e07-c1fc-4cde-8727-1869411b0e4d",
   "metadata": {},
   "outputs": [
    {
     "name": "stdout",
     "output_type": "stream",
     "text": [
      "love: love\n",
      "loving: love\n",
      "loved: love\n"
     ]
    }
   ],
   "source": [
    "print(\"love:\", lemmatizer.lemmatize(\"loves\", wordnet.VERB))\n",
    "print(\"loving:\", lemmatizer.lemmatize(\"loveing\", wordnet.VERB))\n",
    "print(\"loved:\", lemmatizer.lemmatize(\"loved\", pos=wordnet.VERB))"
   ]
  },
  {
   "cell_type": "markdown",
   "id": "a56affa1-b7ec-4dd7-97a8-6bca3438f676",
   "metadata": {},
   "source": [
    "# Implement Bag of Words \n",
    "\n",
    "Outline:\n",
    "\n",
    "1. Create a vocabulary using Count Vectorizer\n",
    "2. Transform text to vectors using Count Vectorizer\n",
    "3. Configure text preprocessing in Count Vectorizer"
   ]
  },
  {
   "cell_type": "code",
   "execution_count": 73,
   "id": "8c0bc8ab-be4a-45ca-9e69-eebb4265cac9",
   "metadata": {},
   "outputs": [
    {
     "data": {
      "text/html": [
       "<div>\n",
       "<style scoped>\n",
       "    .dataframe tbody tr th:only-of-type {\n",
       "        vertical-align: middle;\n",
       "    }\n",
       "\n",
       "    .dataframe tbody tr th {\n",
       "        vertical-align: top;\n",
       "    }\n",
       "\n",
       "    .dataframe thead th {\n",
       "        text-align: right;\n",
       "    }\n",
       "</style>\n",
       "<table border=\"1\" class=\"dataframe\">\n",
       "  <thead>\n",
       "    <tr style=\"text-align: right;\">\n",
       "      <th></th>\n",
       "      <th>qid</th>\n",
       "      <th>question_text</th>\n",
       "      <th>target</th>\n",
       "    </tr>\n",
       "  </thead>\n",
       "  <tbody>\n",
       "    <tr>\n",
       "      <th>335042</th>\n",
       "      <td>41a7f510c21f65deb6fd</td>\n",
       "      <td>Why is D'Angelo such a gay name?</td>\n",
       "      <td>0</td>\n",
       "    </tr>\n",
       "    <tr>\n",
       "      <th>825275</th>\n",
       "      <td>a1bbea7d64b38018704e</td>\n",
       "      <td>Why does Dr. Kim Jong-un have a degree in econ...</td>\n",
       "      <td>0</td>\n",
       "    </tr>\n",
       "    <tr>\n",
       "      <th>376124</th>\n",
       "      <td>49bb02280a82dede3868</td>\n",
       "      <td>Would I save money on closing fees if I bought...</td>\n",
       "      <td>0</td>\n",
       "    </tr>\n",
       "    <tr>\n",
       "      <th>753172</th>\n",
       "      <td>938fd6d37c7ef85cf70d</td>\n",
       "      <td>I'd like to cast Netflix to Chromecast for my ...</td>\n",
       "      <td>0</td>\n",
       "    </tr>\n",
       "    <tr>\n",
       "      <th>253260</th>\n",
       "      <td>3190daf8a86e847a25b0</td>\n",
       "      <td>Why were people so mean to this poor man?</td>\n",
       "      <td>0</td>\n",
       "    </tr>\n",
       "    <tr>\n",
       "      <th>1301231</th>\n",
       "      <td>ff0aabafcd27d3d2c62a</td>\n",
       "      <td>Why do ultrafast laser pulses generate more el...</td>\n",
       "      <td>0</td>\n",
       "    </tr>\n",
       "    <tr>\n",
       "      <th>692611</th>\n",
       "      <td>87a9de40ec1926046441</td>\n",
       "      <td>Why is Pakistan still friends with China and S...</td>\n",
       "      <td>1</td>\n",
       "    </tr>\n",
       "    <tr>\n",
       "      <th>1100534</th>\n",
       "      <td>d7af30bcd5620537fc92</td>\n",
       "      <td>Why is the BJP not using the credibility of Su...</td>\n",
       "      <td>0</td>\n",
       "    </tr>\n",
       "    <tr>\n",
       "      <th>220398</th>\n",
       "      <td>2b1faebaf46416da6c1e</td>\n",
       "      <td>Is there a statistically significant differenc...</td>\n",
       "      <td>0</td>\n",
       "    </tr>\n",
       "  </tbody>\n",
       "</table>\n",
       "</div>"
      ],
      "text/plain": [
       "                          qid  \\\n",
       "335042   41a7f510c21f65deb6fd   \n",
       "825275   a1bbea7d64b38018704e   \n",
       "376124   49bb02280a82dede3868   \n",
       "753172   938fd6d37c7ef85cf70d   \n",
       "253260   3190daf8a86e847a25b0   \n",
       "1301231  ff0aabafcd27d3d2c62a   \n",
       "692611   87a9de40ec1926046441   \n",
       "1100534  d7af30bcd5620537fc92   \n",
       "220398   2b1faebaf46416da6c1e   \n",
       "\n",
       "                                             question_text  target  \n",
       "335042                    Why is D'Angelo such a gay name?       0  \n",
       "825275   Why does Dr. Kim Jong-un have a degree in econ...       0  \n",
       "376124   Would I save money on closing fees if I bought...       0  \n",
       "753172   I'd like to cast Netflix to Chromecast for my ...       0  \n",
       "253260           Why were people so mean to this poor man?       0  \n",
       "1301231  Why do ultrafast laser pulses generate more el...       0  \n",
       "692611   Why is Pakistan still friends with China and S...       1  \n",
       "1100534  Why is the BJP not using the credibility of Su...       0  \n",
       "220398   Is there a statistically significant differenc...       0  "
      ]
     },
     "execution_count": 73,
     "metadata": {},
     "output_type": "execute_result"
    }
   ],
   "source": [
    "sample_df[900:909]"
   ]
  },
  {
   "cell_type": "code",
   "execution_count": 74,
   "id": "aa9eae6f-c428-4ebf-abc1-e8646b16f600",
   "metadata": {},
   "outputs": [],
   "source": [
    "# lets see some 5 questions\n",
    "small_df = sample_df[:5]"
   ]
  },
  {
   "cell_type": "code",
   "execution_count": 79,
   "id": "04e61d55-1e69-4be3-9c6e-8874517ea207",
   "metadata": {},
   "outputs": [
    {
     "data": {
      "text/html": [
       "<div>\n",
       "<style scoped>\n",
       "    .dataframe tbody tr th:only-of-type {\n",
       "        vertical-align: middle;\n",
       "    }\n",
       "\n",
       "    .dataframe tbody tr th {\n",
       "        vertical-align: top;\n",
       "    }\n",
       "\n",
       "    .dataframe thead th {\n",
       "        text-align: right;\n",
       "    }\n",
       "</style>\n",
       "<table border=\"1\" class=\"dataframe\">\n",
       "  <thead>\n",
       "    <tr style=\"text-align: right;\">\n",
       "      <th></th>\n",
       "      <th>qid</th>\n",
       "      <th>question_text</th>\n",
       "      <th>target</th>\n",
       "    </tr>\n",
       "  </thead>\n",
       "  <tbody>\n",
       "    <tr>\n",
       "      <th>443046</th>\n",
       "      <td>56d324bb1e2c29f43b12</td>\n",
       "      <td>What is the most effective classroom managemen...</td>\n",
       "      <td>0</td>\n",
       "    </tr>\n",
       "    <tr>\n",
       "      <th>947549</th>\n",
       "      <td>b9ad893dc78c577f8a63</td>\n",
       "      <td>Can I study abroad after 10th class from Bangl...</td>\n",
       "      <td>0</td>\n",
       "    </tr>\n",
       "    <tr>\n",
       "      <th>523769</th>\n",
       "      <td>6689ebaeeb65b209a412</td>\n",
       "      <td>How can I make friends as a college junior?</td>\n",
       "      <td>0</td>\n",
       "    </tr>\n",
       "    <tr>\n",
       "      <th>949821</th>\n",
       "      <td>ba1e2c4a0fef09671516</td>\n",
       "      <td>How do I download free APK Minecraft: Pocket E...</td>\n",
       "      <td>0</td>\n",
       "    </tr>\n",
       "    <tr>\n",
       "      <th>1030397</th>\n",
       "      <td>c9ea2b69bf0d74626f46</td>\n",
       "      <td>Like Kuvera, is \"Groww\" also a free online inv...</td>\n",
       "      <td>0</td>\n",
       "    </tr>\n",
       "  </tbody>\n",
       "</table>\n",
       "</div>"
      ],
      "text/plain": [
       "                          qid  \\\n",
       "443046   56d324bb1e2c29f43b12   \n",
       "947549   b9ad893dc78c577f8a63   \n",
       "523769   6689ebaeeb65b209a412   \n",
       "949821   ba1e2c4a0fef09671516   \n",
       "1030397  c9ea2b69bf0d74626f46   \n",
       "\n",
       "                                             question_text  target  \n",
       "443046   What is the most effective classroom managemen...       0  \n",
       "947549   Can I study abroad after 10th class from Bangl...       0  \n",
       "523769         How can I make friends as a college junior?       0  \n",
       "949821   How do I download free APK Minecraft: Pocket E...       0  \n",
       "1030397  Like Kuvera, is \"Groww\" also a free online inv...       0  "
      ]
     },
     "execution_count": 79,
     "metadata": {},
     "output_type": "execute_result"
    }
   ],
   "source": [
    "small_df"
   ]
  },
  {
   "cell_type": "code",
   "execution_count": 78,
   "id": "79972260-87a6-4871-91f9-85443510c9cd",
   "metadata": {},
   "outputs": [
    {
     "data": {
      "text/plain": [
       "array(['What is the most effective classroom management skill/technique to create a good learning environment?',\n",
       "       'Can I study abroad after 10th class from Bangladesh?',\n",
       "       'How can I make friends as a college junior?',\n",
       "       'How do I download free APK Minecraft: Pocket Edition for iOS (iPhone)?',\n",
       "       'Like Kuvera, is \"Groww\" also a free online investment platform where I can invest in direct mutual funds?'],\n",
       "      dtype=object)"
      ]
     },
     "execution_count": 78,
     "metadata": {},
     "output_type": "execute_result"
    }
   ],
   "source": [
    "small_df.question_text.values"
   ]
  },
  {
   "cell_type": "markdown",
   "id": "a95c341f-5a10-4d19-954a-121bf00bc83f",
   "metadata": {},
   "source": [
    "### 1. Create a Vocabulary\n",
    "\n",
    "- for Count Vectorizer -> https://scikit-learn.org/stable/modules/generated/sklearn.feature_extraction.text.CountVectorizer.html"
   ]
  },
  {
   "cell_type": "code",
   "execution_count": 80,
   "id": "9aa96eb8-a82c-45ce-815a-ac09f2b8593d",
   "metadata": {},
   "outputs": [],
   "source": [
    "from sklearn.feature_extraction.text import CountVectorizer # this converts the collection of text documnents to a matrix of token counts"
   ]
  },
  {
   "cell_type": "code",
   "execution_count": 81,
   "id": "8dd5f5af-72b3-4d77-94aa-b68d791bc652",
   "metadata": {},
   "outputs": [],
   "source": [
    "small_vect = CountVectorizer()"
   ]
  },
  {
   "cell_type": "code",
   "execution_count": 84,
   "id": "482462dd-a24a-438e-bbfe-623b4656e961",
   "metadata": {},
   "outputs": [
    {
     "data": {
      "text/html": [
       "<style>#sk-container-id-2 {color: black;background-color: white;}#sk-container-id-2 pre{padding: 0;}#sk-container-id-2 div.sk-toggleable {background-color: white;}#sk-container-id-2 label.sk-toggleable__label {cursor: pointer;display: block;width: 100%;margin-bottom: 0;padding: 0.3em;box-sizing: border-box;text-align: center;}#sk-container-id-2 label.sk-toggleable__label-arrow:before {content: \"▸\";float: left;margin-right: 0.25em;color: #696969;}#sk-container-id-2 label.sk-toggleable__label-arrow:hover:before {color: black;}#sk-container-id-2 div.sk-estimator:hover label.sk-toggleable__label-arrow:before {color: black;}#sk-container-id-2 div.sk-toggleable__content {max-height: 0;max-width: 0;overflow: hidden;text-align: left;background-color: #f0f8ff;}#sk-container-id-2 div.sk-toggleable__content pre {margin: 0.2em;color: black;border-radius: 0.25em;background-color: #f0f8ff;}#sk-container-id-2 input.sk-toggleable__control:checked~div.sk-toggleable__content {max-height: 200px;max-width: 100%;overflow: auto;}#sk-container-id-2 input.sk-toggleable__control:checked~label.sk-toggleable__label-arrow:before {content: \"▾\";}#sk-container-id-2 div.sk-estimator input.sk-toggleable__control:checked~label.sk-toggleable__label {background-color: #d4ebff;}#sk-container-id-2 div.sk-label input.sk-toggleable__control:checked~label.sk-toggleable__label {background-color: #d4ebff;}#sk-container-id-2 input.sk-hidden--visually {border: 0;clip: rect(1px 1px 1px 1px);clip: rect(1px, 1px, 1px, 1px);height: 1px;margin: -1px;overflow: hidden;padding: 0;position: absolute;width: 1px;}#sk-container-id-2 div.sk-estimator {font-family: monospace;background-color: #f0f8ff;border: 1px dotted black;border-radius: 0.25em;box-sizing: border-box;margin-bottom: 0.5em;}#sk-container-id-2 div.sk-estimator:hover {background-color: #d4ebff;}#sk-container-id-2 div.sk-parallel-item::after {content: \"\";width: 100%;border-bottom: 1px solid gray;flex-grow: 1;}#sk-container-id-2 div.sk-label:hover label.sk-toggleable__label {background-color: #d4ebff;}#sk-container-id-2 div.sk-serial::before {content: \"\";position: absolute;border-left: 1px solid gray;box-sizing: border-box;top: 0;bottom: 0;left: 50%;z-index: 0;}#sk-container-id-2 div.sk-serial {display: flex;flex-direction: column;align-items: center;background-color: white;padding-right: 0.2em;padding-left: 0.2em;position: relative;}#sk-container-id-2 div.sk-item {position: relative;z-index: 1;}#sk-container-id-2 div.sk-parallel {display: flex;align-items: stretch;justify-content: center;background-color: white;position: relative;}#sk-container-id-2 div.sk-item::before, #sk-container-id-2 div.sk-parallel-item::before {content: \"\";position: absolute;border-left: 1px solid gray;box-sizing: border-box;top: 0;bottom: 0;left: 50%;z-index: -1;}#sk-container-id-2 div.sk-parallel-item {display: flex;flex-direction: column;z-index: 1;position: relative;background-color: white;}#sk-container-id-2 div.sk-parallel-item:first-child::after {align-self: flex-end;width: 50%;}#sk-container-id-2 div.sk-parallel-item:last-child::after {align-self: flex-start;width: 50%;}#sk-container-id-2 div.sk-parallel-item:only-child::after {width: 0;}#sk-container-id-2 div.sk-dashed-wrapped {border: 1px dashed gray;margin: 0 0.4em 0.5em 0.4em;box-sizing: border-box;padding-bottom: 0.4em;background-color: white;}#sk-container-id-2 div.sk-label label {font-family: monospace;font-weight: bold;display: inline-block;line-height: 1.2em;}#sk-container-id-2 div.sk-label-container {text-align: center;}#sk-container-id-2 div.sk-container {/* jupyter's `normalize.less` sets `[hidden] { display: none; }` but bootstrap.min.css set `[hidden] { display: none !important; }` so we also need the `!important` here to be able to override the default hidden behavior on the sphinx rendered scikit-learn.org. See: https://github.com/scikit-learn/scikit-learn/issues/21755 */display: inline-block !important;position: relative;}#sk-container-id-2 div.sk-text-repr-fallback {display: none;}</style><div id=\"sk-container-id-2\" class=\"sk-top-container\"><div class=\"sk-text-repr-fallback\"><pre>CountVectorizer()</pre><b>In a Jupyter environment, please rerun this cell to show the HTML representation or trust the notebook. <br />On GitHub, the HTML representation is unable to render, please try loading this page with nbviewer.org.</b></div><div class=\"sk-container\" hidden><div class=\"sk-item\"><div class=\"sk-estimator sk-toggleable\"><input class=\"sk-toggleable__control sk-hidden--visually\" id=\"sk-estimator-id-2\" type=\"checkbox\" checked><label for=\"sk-estimator-id-2\" class=\"sk-toggleable__label sk-toggleable__label-arrow\">CountVectorizer</label><div class=\"sk-toggleable__content\"><pre>CountVectorizer()</pre></div></div></div></div></div>"
      ],
      "text/plain": [
       "CountVectorizer()"
      ]
     },
     "execution_count": 84,
     "metadata": {},
     "output_type": "execute_result"
    }
   ],
   "source": [
    "small_vect.fit(small_df.question_text) # .fit is used to learn the vocabulary"
   ]
  },
  {
   "cell_type": "code",
   "execution_count": 85,
   "id": "11fc1177-c17d-43c5-a8f1-d3e6117ab23a",
   "metadata": {
    "scrolled": true
   },
   "outputs": [
    {
     "data": {
      "text/plain": [
       "{'what': 49,\n",
       " 'is': 31,\n",
       " 'the': 47,\n",
       " 'most': 39,\n",
       " 'effective': 16,\n",
       " 'classroom': 9,\n",
       " 'management': 37,\n",
       " 'skill': 44,\n",
       " 'technique': 46,\n",
       " 'to': 48,\n",
       " 'create': 11,\n",
       " 'good': 23,\n",
       " 'learning': 34,\n",
       " 'environment': 17,\n",
       " 'can': 7,\n",
       " 'study': 45,\n",
       " 'abroad': 1,\n",
       " 'after': 2,\n",
       " '10th': 0,\n",
       " 'class': 8,\n",
       " 'from': 21,\n",
       " 'bangladesh': 6,\n",
       " 'how': 25,\n",
       " 'make': 36,\n",
       " 'friends': 20,\n",
       " 'as': 5,\n",
       " 'college': 10,\n",
       " 'junior': 32,\n",
       " 'do': 13,\n",
       " 'download': 14,\n",
       " 'free': 19,\n",
       " 'apk': 4,\n",
       " 'minecraft': 38,\n",
       " 'pocket': 43,\n",
       " 'edition': 15,\n",
       " 'for': 18,\n",
       " 'ios': 29,\n",
       " 'iphone': 30,\n",
       " 'like': 35,\n",
       " 'kuvera': 33,\n",
       " 'groww': 24,\n",
       " 'also': 3,\n",
       " 'online': 41,\n",
       " 'investment': 28,\n",
       " 'platform': 42,\n",
       " 'where': 50,\n",
       " 'invest': 27,\n",
       " 'in': 26,\n",
       " 'direct': 12,\n",
       " 'mutual': 40,\n",
       " 'funds': 22}"
      ]
     },
     "execution_count": 85,
     "metadata": {},
     "output_type": "execute_result"
    }
   ],
   "source": [
    "small_vect.vocabulary_ # this without any text preprocessing(stemming, reval of stop words etc)"
   ]
  },
  {
   "cell_type": "code",
   "execution_count": 86,
   "id": "910083f9-3158-4c38-a969-c6811fb79134",
   "metadata": {},
   "outputs": [
    {
     "data": {
      "text/plain": [
       "array(['10th', 'abroad', 'after', 'also', 'apk', 'as', 'bangladesh',\n",
       "       'can', 'class', 'classroom', 'college', 'create', 'direct', 'do',\n",
       "       'download', 'edition', 'effective', 'environment', 'for', 'free',\n",
       "       'friends', 'from', 'funds', 'good', 'groww', 'how', 'in', 'invest',\n",
       "       'investment', 'ios', 'iphone', 'is', 'junior', 'kuvera',\n",
       "       'learning', 'like', 'make', 'management', 'minecraft', 'most',\n",
       "       'mutual', 'online', 'platform', 'pocket', 'skill', 'study',\n",
       "       'technique', 'the', 'to', 'what', 'where'], dtype=object)"
      ]
     },
     "execution_count": 86,
     "metadata": {},
     "output_type": "execute_result"
    }
   ],
   "source": [
    "# for actual list of voabulary words\n",
    "small_vect.get_feature_names_out()# so far we have pick out all the vocabulary, but we didn't convert it to the documnent vectors"
   ]
  },
  {
   "cell_type": "markdown",
   "id": "168dfdad-9cc7-416d-aef5-9766cb6f560c",
   "metadata": {},
   "source": [
    "### 2. Transform documents into Vectors"
   ]
  },
  {
   "cell_type": "code",
   "execution_count": 87,
   "id": "1012b6f8-3998-4e7b-b65c-c92c29e6e6a1",
   "metadata": {},
   "outputs": [],
   "source": [
    "vectors = small_vect.transform(small_df.question_text) # .transform is used to transform document into documnent-term matrix"
   ]
  },
  {
   "cell_type": "code",
   "execution_count": 88,
   "id": "197dc673-06d3-4b1a-88da-75ae58518d87",
   "metadata": {},
   "outputs": [
    {
     "data": {
      "text/plain": [
       "<5x51 sparse matrix of type '<class 'numpy.int64'>'\n",
       "\twith 56 stored elements in Compressed Sparse Row format>"
      ]
     },
     "execution_count": 88,
     "metadata": {},
     "output_type": "execute_result"
    }
   ],
   "source": [
    "vectors\n",
    "# it says vector is a spare matrix\n",
    "# bcz there are 56 entries in vocabulary and a particular sentence may have 5 or 6 of words in them, so most of the values are 0\n",
    "# to store this efficienty numpy internally uses called sparse matrix"
   ]
  },
  {
   "cell_type": "code",
   "execution_count": 89,
   "id": "40acd566-bd4a-4d1a-bfa8-93281bade2da",
   "metadata": {},
   "outputs": [
    {
     "data": {
      "text/plain": [
       "array([[0, 0, 0, 0, 0, 0, 0, 0, 0, 1, 0, 1, 0, 0, 0, 0, 1, 1, 0, 0, 0, 0,\n",
       "        0, 1, 0, 0, 0, 0, 0, 0, 0, 1, 0, 0, 1, 0, 0, 1, 0, 1, 0, 0, 0, 0,\n",
       "        1, 0, 1, 1, 1, 1, 0],\n",
       "       [1, 1, 1, 0, 0, 0, 1, 1, 1, 0, 0, 0, 0, 0, 0, 0, 0, 0, 0, 0, 0, 1,\n",
       "        0, 0, 0, 0, 0, 0, 0, 0, 0, 0, 0, 0, 0, 0, 0, 0, 0, 0, 0, 0, 0, 0,\n",
       "        0, 1, 0, 0, 0, 0, 0],\n",
       "       [0, 0, 0, 0, 0, 1, 0, 1, 0, 0, 1, 0, 0, 0, 0, 0, 0, 0, 0, 0, 1, 0,\n",
       "        0, 0, 0, 1, 0, 0, 0, 0, 0, 0, 1, 0, 0, 0, 1, 0, 0, 0, 0, 0, 0, 0,\n",
       "        0, 0, 0, 0, 0, 0, 0],\n",
       "       [0, 0, 0, 0, 1, 0, 0, 0, 0, 0, 0, 0, 0, 1, 1, 1, 0, 0, 1, 1, 0, 0,\n",
       "        0, 0, 0, 1, 0, 0, 0, 1, 1, 0, 0, 0, 0, 0, 0, 0, 1, 0, 0, 0, 0, 1,\n",
       "        0, 0, 0, 0, 0, 0, 0],\n",
       "       [0, 0, 0, 1, 0, 0, 0, 1, 0, 0, 0, 0, 1, 0, 0, 0, 0, 0, 0, 1, 0, 0,\n",
       "        1, 0, 1, 0, 1, 1, 1, 0, 0, 1, 0, 1, 0, 1, 0, 0, 0, 0, 1, 1, 1, 0,\n",
       "        0, 0, 0, 0, 0, 0, 1]], dtype=int64)"
      ]
     },
     "execution_count": 89,
     "metadata": {},
     "output_type": "execute_result"
    }
   ],
   "source": [
    "vectors.toarray() # be carefull while converting the vectors to sparse matrix bcz it can run out of memory\n",
    "# here the sparse matrix is small"
   ]
  },
  {
   "cell_type": "code",
   "execution_count": 94,
   "id": "9173109e-4508-4731-abd2-78dc7a967f4b",
   "metadata": {},
   "outputs": [
    {
     "data": {
      "text/plain": [
       "'What is the most effective classroom management skill/technique to create a good learning environment?'"
      ]
     },
     "execution_count": 94,
     "metadata": {},
     "output_type": "execute_result"
    }
   ],
   "source": [
    "small_df.question_text.values[0]"
   ]
  },
  {
   "cell_type": "code",
   "execution_count": 95,
   "id": "36bd13e2-f049-4a4d-864a-b7f65de6cda6",
   "metadata": {},
   "outputs": [
    {
     "data": {
      "text/plain": [
       "array([[0, 0, 0, 0, 0, 0, 0, 0, 0, 1, 0, 1, 0, 0, 0, 0, 1, 1, 0, 0, 0, 0,\n",
       "        0, 1, 0, 0, 0, 0, 0, 0, 0, 1, 0, 0, 1, 0, 0, 1, 0, 1, 0, 0, 0, 0,\n",
       "        1, 0, 1, 1, 1, 1, 0]], dtype=int64)"
      ]
     },
     "execution_count": 95,
     "metadata": {},
     "output_type": "execute_result"
    }
   ],
   "source": [
    "vectors[0].toarray()"
   ]
  },
  {
   "cell_type": "markdown",
   "id": "b11e7184-70cd-4d47-8ae7-04953ac94dab",
   "metadata": {},
   "source": [
    "### 3. Configure Count Vectorizer Parameters"
   ]
  },
  {
   "cell_type": "code",
   "execution_count": 96,
   "id": "b4b7992e-0c42-402f-83b8-d0464c8169c3",
   "metadata": {},
   "outputs": [],
   "source": [
    "stemmer = SnowballStemmer(language='english')"
   ]
  },
  {
   "cell_type": "code",
   "execution_count": 101,
   "id": "ce3b160b-4f7e-40d8-a98b-4b882edc9264",
   "metadata": {},
   "outputs": [],
   "source": [
    "def tokenize(text): # this is tokenizing, removing stop word and stemming thre words\n",
    "    return [stemmer.stem(word) for word in word_tokenize(text) if word.lower() not in english_stopwords]"
   ]
  },
  {
   "cell_type": "code",
   "execution_count": 102,
   "id": "62c12205-9d6b-48c5-95a1-009ae021f632",
   "metadata": {},
   "outputs": [
    {
     "data": {
      "text/plain": [
       "['realli', '(', 'deal', ')', '?']"
      ]
     },
     "execution_count": 102,
     "metadata": {},
     "output_type": "execute_result"
    }
   ],
   "source": [
    "tokenize('What is the really (dealing) here?')"
   ]
  },
  {
   "cell_type": "code",
   "execution_count": 105,
   "id": "e657ad25-2235-4845-a8c8-741bffa55aa4",
   "metadata": {},
   "outputs": [],
   "source": [
    "# creating another vectorizer for the 100000 of data, the total dataset which we are going to use here\n",
    "# just have look for all the functions on .org\n",
    "vectorizer = CountVectorizer(lowercase=True, \n",
    "                             tokenizer=tokenize, # it have takenizer built in but we can also provide the tokenizer, here tokenize is the fun\n",
    "                             stop_words=english_stopwords, # also used while tokenizing, no need of using it at two positions\n",
    "                             max_features=1000) # it going to consider top 1000 of vocab based on frequency accross the corpus, practice eith 2k or 3k here using 1k bcz it may take langer to execute"
   ]
  },
  {
   "cell_type": "code",
   "execution_count": 106,
   "id": "47d15df6-1524-41cc-9d9c-9f978f5e35d2",
   "metadata": {},
   "outputs": [
    {
     "name": "stdout",
     "output_type": "stream",
     "text": [
      "CPU times: total: 54.3 s\n",
      "Wall time: 54.5 s\n"
     ]
    },
    {
     "data": {
      "text/html": [
       "<style>#sk-container-id-5 {color: black;background-color: white;}#sk-container-id-5 pre{padding: 0;}#sk-container-id-5 div.sk-toggleable {background-color: white;}#sk-container-id-5 label.sk-toggleable__label {cursor: pointer;display: block;width: 100%;margin-bottom: 0;padding: 0.3em;box-sizing: border-box;text-align: center;}#sk-container-id-5 label.sk-toggleable__label-arrow:before {content: \"▸\";float: left;margin-right: 0.25em;color: #696969;}#sk-container-id-5 label.sk-toggleable__label-arrow:hover:before {color: black;}#sk-container-id-5 div.sk-estimator:hover label.sk-toggleable__label-arrow:before {color: black;}#sk-container-id-5 div.sk-toggleable__content {max-height: 0;max-width: 0;overflow: hidden;text-align: left;background-color: #f0f8ff;}#sk-container-id-5 div.sk-toggleable__content pre {margin: 0.2em;color: black;border-radius: 0.25em;background-color: #f0f8ff;}#sk-container-id-5 input.sk-toggleable__control:checked~div.sk-toggleable__content {max-height: 200px;max-width: 100%;overflow: auto;}#sk-container-id-5 input.sk-toggleable__control:checked~label.sk-toggleable__label-arrow:before {content: \"▾\";}#sk-container-id-5 div.sk-estimator input.sk-toggleable__control:checked~label.sk-toggleable__label {background-color: #d4ebff;}#sk-container-id-5 div.sk-label input.sk-toggleable__control:checked~label.sk-toggleable__label {background-color: #d4ebff;}#sk-container-id-5 input.sk-hidden--visually {border: 0;clip: rect(1px 1px 1px 1px);clip: rect(1px, 1px, 1px, 1px);height: 1px;margin: -1px;overflow: hidden;padding: 0;position: absolute;width: 1px;}#sk-container-id-5 div.sk-estimator {font-family: monospace;background-color: #f0f8ff;border: 1px dotted black;border-radius: 0.25em;box-sizing: border-box;margin-bottom: 0.5em;}#sk-container-id-5 div.sk-estimator:hover {background-color: #d4ebff;}#sk-container-id-5 div.sk-parallel-item::after {content: \"\";width: 100%;border-bottom: 1px solid gray;flex-grow: 1;}#sk-container-id-5 div.sk-label:hover label.sk-toggleable__label {background-color: #d4ebff;}#sk-container-id-5 div.sk-serial::before {content: \"\";position: absolute;border-left: 1px solid gray;box-sizing: border-box;top: 0;bottom: 0;left: 50%;z-index: 0;}#sk-container-id-5 div.sk-serial {display: flex;flex-direction: column;align-items: center;background-color: white;padding-right: 0.2em;padding-left: 0.2em;position: relative;}#sk-container-id-5 div.sk-item {position: relative;z-index: 1;}#sk-container-id-5 div.sk-parallel {display: flex;align-items: stretch;justify-content: center;background-color: white;position: relative;}#sk-container-id-5 div.sk-item::before, #sk-container-id-5 div.sk-parallel-item::before {content: \"\";position: absolute;border-left: 1px solid gray;box-sizing: border-box;top: 0;bottom: 0;left: 50%;z-index: -1;}#sk-container-id-5 div.sk-parallel-item {display: flex;flex-direction: column;z-index: 1;position: relative;background-color: white;}#sk-container-id-5 div.sk-parallel-item:first-child::after {align-self: flex-end;width: 50%;}#sk-container-id-5 div.sk-parallel-item:last-child::after {align-self: flex-start;width: 50%;}#sk-container-id-5 div.sk-parallel-item:only-child::after {width: 0;}#sk-container-id-5 div.sk-dashed-wrapped {border: 1px dashed gray;margin: 0 0.4em 0.5em 0.4em;box-sizing: border-box;padding-bottom: 0.4em;background-color: white;}#sk-container-id-5 div.sk-label label {font-family: monospace;font-weight: bold;display: inline-block;line-height: 1.2em;}#sk-container-id-5 div.sk-label-container {text-align: center;}#sk-container-id-5 div.sk-container {/* jupyter's `normalize.less` sets `[hidden] { display: none; }` but bootstrap.min.css set `[hidden] { display: none !important; }` so we also need the `!important` here to be able to override the default hidden behavior on the sphinx rendered scikit-learn.org. See: https://github.com/scikit-learn/scikit-learn/issues/21755 */display: inline-block !important;position: relative;}#sk-container-id-5 div.sk-text-repr-fallback {display: none;}</style><div id=\"sk-container-id-5\" class=\"sk-top-container\"><div class=\"sk-text-repr-fallback\"><pre>CountVectorizer(max_features=1000,\n",
       "                stop_words=[&#x27;i&#x27;, &#x27;me&#x27;, &#x27;my&#x27;, &#x27;myself&#x27;, &#x27;we&#x27;, &#x27;our&#x27;, &#x27;ours&#x27;,\n",
       "                            &#x27;ourselves&#x27;, &#x27;you&#x27;, &quot;you&#x27;re&quot;, &quot;you&#x27;ve&quot;, &quot;you&#x27;ll&quot;,\n",
       "                            &quot;you&#x27;d&quot;, &#x27;your&#x27;, &#x27;yours&#x27;, &#x27;yourself&#x27;, &#x27;yourselves&#x27;,\n",
       "                            &#x27;he&#x27;, &#x27;him&#x27;, &#x27;his&#x27;, &#x27;himself&#x27;, &#x27;she&#x27;, &quot;she&#x27;s&quot;,\n",
       "                            &#x27;her&#x27;, &#x27;hers&#x27;, &#x27;herself&#x27;, &#x27;it&#x27;, &quot;it&#x27;s&quot;, &#x27;its&#x27;,\n",
       "                            &#x27;itself&#x27;, ...],\n",
       "                tokenizer=&lt;function tokenize at 0x0000028A04D9B7F0&gt;)</pre><b>In a Jupyter environment, please rerun this cell to show the HTML representation or trust the notebook. <br />On GitHub, the HTML representation is unable to render, please try loading this page with nbviewer.org.</b></div><div class=\"sk-container\" hidden><div class=\"sk-item\"><div class=\"sk-estimator sk-toggleable\"><input class=\"sk-toggleable__control sk-hidden--visually\" id=\"sk-estimator-id-5\" type=\"checkbox\" checked><label for=\"sk-estimator-id-5\" class=\"sk-toggleable__label sk-toggleable__label-arrow\">CountVectorizer</label><div class=\"sk-toggleable__content\"><pre>CountVectorizer(max_features=1000,\n",
       "                stop_words=[&#x27;i&#x27;, &#x27;me&#x27;, &#x27;my&#x27;, &#x27;myself&#x27;, &#x27;we&#x27;, &#x27;our&#x27;, &#x27;ours&#x27;,\n",
       "                            &#x27;ourselves&#x27;, &#x27;you&#x27;, &quot;you&#x27;re&quot;, &quot;you&#x27;ve&quot;, &quot;you&#x27;ll&quot;,\n",
       "                            &quot;you&#x27;d&quot;, &#x27;your&#x27;, &#x27;yours&#x27;, &#x27;yourself&#x27;, &#x27;yourselves&#x27;,\n",
       "                            &#x27;he&#x27;, &#x27;him&#x27;, &#x27;his&#x27;, &#x27;himself&#x27;, &#x27;she&#x27;, &quot;she&#x27;s&quot;,\n",
       "                            &#x27;her&#x27;, &#x27;hers&#x27;, &#x27;herself&#x27;, &#x27;it&#x27;, &quot;it&#x27;s&quot;, &#x27;its&#x27;,\n",
       "                            &#x27;itself&#x27;, ...],\n",
       "                tokenizer=&lt;function tokenize at 0x0000028A04D9B7F0&gt;)</pre></div></div></div></div></div>"
      ],
      "text/plain": [
       "CountVectorizer(max_features=1000,\n",
       "                stop_words=['i', 'me', 'my', 'myself', 'we', 'our', 'ours',\n",
       "                            'ourselves', 'you', \"you're\", \"you've\", \"you'll\",\n",
       "                            \"you'd\", 'your', 'yours', 'yourself', 'yourselves',\n",
       "                            'he', 'him', 'his', 'himself', 'she', \"she's\",\n",
       "                            'her', 'hers', 'herself', 'it', \"it's\", 'its',\n",
       "                            'itself', ...],\n",
       "                tokenizer=<function tokenize at 0x0000028A04D9B7F0>)"
      ]
     },
     "execution_count": 106,
     "metadata": {},
     "output_type": "execute_result"
    }
   ],
   "source": [
    "%%time # this print out the time it took to execute\n",
    "# makng learn the vocabs\n",
    "vectorizer.fit(sample_df.question_text) # so now giving the content for preprocessing"
   ]
  },
  {
   "cell_type": "code",
   "execution_count": 107,
   "id": "692500ca-14c9-4fef-a798-13339a9f1291",
   "metadata": {
    "scrolled": true
   },
   "outputs": [
    {
     "data": {
      "text/plain": [
       "{'effect': 298,\n",
       " 'manag': 546,\n",
       " 'creat': 235,\n",
       " 'good': 400,\n",
       " 'learn': 508,\n",
       " '?': 31,\n",
       " 'studi': 872,\n",
       " 'abroad': 36,\n",
       " 'class': 194,\n",
       " 'make': 543,\n",
       " 'friend': 379,\n",
       " 'colleg': 202,\n",
       " 'download': 281,\n",
       " 'free': 377,\n",
       " ':': 30,\n",
       " '(': 8,\n",
       " 'iphon': 476,\n",
       " ')': 9,\n",
       " 'like': 521,\n",
       " ',': 10,\n",
       " '``': 34,\n",
       " \"''\": 5,\n",
       " 'also': 67,\n",
       " 'onlin': 635,\n",
       " 'invest': 474,\n",
       " 'platform': 677,\n",
       " 'direct': 273,\n",
       " 'fund': 382,\n",
       " 'record': 747,\n",
       " 'read': 738,\n",
       " 'term': 901,\n",
       " \"'s\": 7,\n",
       " 'role': 774,\n",
       " 'get': 392,\n",
       " 'univers': 938,\n",
       " 'germani': 391,\n",
       " 'new': 613,\n",
       " 'skill': 829,\n",
       " 'anyth': 81,\n",
       " 'old': 633,\n",
       " 'english': 310,\n",
       " 'militari': 578,\n",
       " 'capit': 159,\n",
       " 'way': 958,\n",
       " 'earn': 289,\n",
       " 'money': 588,\n",
       " 'use': 942,\n",
       " 'brand': 142,\n",
       " 'car': 160,\n",
       " 'alway': 69,\n",
       " 'prefer': 694,\n",
       " 'player': 679,\n",
       " 'india': 454,\n",
       " 'play': 678,\n",
       " 'need': 608,\n",
       " 'purchas': 721,\n",
       " 'insur': 465,\n",
       " 'educ': 297,\n",
       " 'technolog': 898,\n",
       " 'compani': 210,\n",
       " 'come': 204,\n",
       " 'economi': 296,\n",
       " 'pursu': 723,\n",
       " 'mba': 561,\n",
       " 'activ': 46,\n",
       " 'place': 672,\n",
       " 'citizen': 191,\n",
       " \"'\": 4,\n",
       " 'featur': 351,\n",
       " 'air': 62,\n",
       " 'intern': 469,\n",
       " 'applic': 87,\n",
       " 'countri': 231,\n",
       " 'one': 634,\n",
       " 'movi': 593,\n",
       " 'actual': 48,\n",
       " 'rich': 770,\n",
       " 'peopl': 660,\n",
       " \"n't\": 601,\n",
       " 'care': 162,\n",
       " 'world': 981,\n",
       " 'issu': 480,\n",
       " 'affect': 57,\n",
       " 'poor': 685,\n",
       " 'deal': 252,\n",
       " 'problem': 703,\n",
       " 'life': 519,\n",
       " 'mean': 562,\n",
       " 'fear': 350,\n",
       " 'achiev': 43,\n",
       " 'success': 876,\n",
       " 'busi': 148,\n",
       " 'say': 785,\n",
       " 'mass': 553,\n",
       " 'shoot': 815,\n",
       " 'look': 532,\n",
       " 'start': 858,\n",
       " 'program': 711,\n",
       " 'year': 990,\n",
       " '.': 12,\n",
       " 'job': 486,\n",
       " 'offer': 627,\n",
       " 'special': 850,\n",
       " 'iit': 444,\n",
       " 'time': 910,\n",
       " 'anyon': 80,\n",
       " 'part': 654,\n",
       " 'bodi': 135,\n",
       " 'social': 835,\n",
       " 'help': 426,\n",
       " 'consid': 218,\n",
       " 'document': 277,\n",
       " 'child': 184,\n",
       " 'media': 565,\n",
       " 'feel': 353,\n",
       " 'leav': 510,\n",
       " 'determin': 266,\n",
       " 'area': 90,\n",
       " 'water': 957,\n",
       " 'left': 511,\n",
       " 'month': 589,\n",
       " 'safe': 780,\n",
       " 'drink': 283,\n",
       " 'better': 123,\n",
       " 'tip': 911,\n",
       " 'write': 985,\n",
       " 'email': 303,\n",
       " 'japanes': 482,\n",
       " 'first': 364,\n",
       " 'charact': 177,\n",
       " 'civil': 192,\n",
       " 'select': 800,\n",
       " 'financi': 361,\n",
       " 'certif': 172,\n",
       " 'requir': 761,\n",
       " 'admiss': 52,\n",
       " '2018': 22,\n",
       " 'see': 797,\n",
       " 'quora': 727,\n",
       " 'app': 83,\n",
       " 'show': 818,\n",
       " 'question': 726,\n",
       " 'south': 847,\n",
       " 'indian': 455,\n",
       " 'men': 570,\n",
       " 'dark': 247,\n",
       " 'realli': 742,\n",
       " 'keep': 488,\n",
       " 'face': 336,\n",
       " 'day': 250,\n",
       " 'long': 531,\n",
       " 'institut': 464,\n",
       " 'market': 550,\n",
       " 'exist': 329,\n",
       " 'noth': 621,\n",
       " 'stop': 865,\n",
       " 'back': 108,\n",
       " 'ever': 320,\n",
       " 'pakistan': 650,\n",
       " 'becom': 117,\n",
       " 'state': 860,\n",
       " 'iq': 477,\n",
       " 'person': 666,\n",
       " 'known': 495,\n",
       " 'someon': 840,\n",
       " 'black': 129,\n",
       " 'video': 947,\n",
       " 'hand': 414,\n",
       " 'away': 105,\n",
       " 'someth': 841,\n",
       " 'normal': 619,\n",
       " 'fee': 352,\n",
       " 'win': 971,\n",
       " 'war': 955,\n",
       " 'gate': 386,\n",
       " 'import': 449,\n",
       " 'jew': 485,\n",
       " 'type': 933,\n",
       " 'measur': 563,\n",
       " 'current': 242,\n",
       " 'main': 541,\n",
       " 'advantag': 55,\n",
       " 'network': 611,\n",
       " 'secur': 796,\n",
       " 'moment': 587,\n",
       " 'young': 993,\n",
       " 'student': 871,\n",
       " 'would': 984,\n",
       " 'move': 592,\n",
       " 'school': 786,\n",
       " 'appli': 86,\n",
       " 'internship': 471,\n",
       " 'eat': 294,\n",
       " 'even': 318,\n",
       " 'though': 907,\n",
       " 'healthi': 422,\n",
       " 'facebook': 337,\n",
       " 'regard': 751,\n",
       " 'list': 525,\n",
       " 'detail': 265,\n",
       " 'relat': 752,\n",
       " 'adult': 53,\n",
       " 'thing': 905,\n",
       " 'girl': 393,\n",
       " 'fall': 342,\n",
       " 'love': 537,\n",
       " 'guy': 412,\n",
       " 'call': 154,\n",
       " 'russian': 779,\n",
       " 'attack': 98,\n",
       " 'internet': 470,\n",
       " 'work': 980,\n",
       " 'everi': 321,\n",
       " 'chang': 175,\n",
       " 'happen': 416,\n",
       " 'best': 122,\n",
       " 'scienc': 787,\n",
       " 'age': 60,\n",
       " 'electron': 301,\n",
       " 'middl': 576,\n",
       " 'east': 293,\n",
       " 'hard': 418,\n",
       " 'find': 362,\n",
       " 'true': 927,\n",
       " 'much': 595,\n",
       " 'spend': 853,\n",
       " 'energi': 308,\n",
       " 'ca': 151,\n",
       " 'machin': 539,\n",
       " 'instead': 463,\n",
       " 'level': 516,\n",
       " 'size': 828,\n",
       " 'googl': 401,\n",
       " '1': 13,\n",
       " 'number': 624,\n",
       " 'jee': 484,\n",
       " 'ball': 110,\n",
       " 'possibl': 689,\n",
       " 'cost': 229,\n",
       " 'light': 520,\n",
       " 'calcul': 152,\n",
       " 'big': 124,\n",
       " 'fast': 346,\n",
       " 'board': 134,\n",
       " 'exam': 326,\n",
       " 'process': 705,\n",
       " 'us': 940,\n",
       " 'bad': 109,\n",
       " 'law': 505,\n",
       " 'watch': 956,\n",
       " 'engin': 309,\n",
       " 'low': 538,\n",
       " 'power': 692,\n",
       " 'stock': 864,\n",
       " 'trade': 920,\n",
       " 'option': 640,\n",
       " 'differ': 270,\n",
       " 'muslim': 599,\n",
       " 'american': 72,\n",
       " 'women': 978,\n",
       " 'open': 636,\n",
       " 'rape': 732,\n",
       " 'tri': 926,\n",
       " 'want': 954,\n",
       " 'answer': 78,\n",
       " 'communic': 208,\n",
       " 'within': 974,\n",
       " 'could': 230,\n",
       " 'act': 44,\n",
       " 'sever': 811,\n",
       " 'star': 857,\n",
       " 'scientif': 788,\n",
       " 'procedur': 704,\n",
       " 'reduc': 749,\n",
       " 'worst': 982,\n",
       " 'high': 427,\n",
       " 'support': 882,\n",
       " 'softwar': 837,\n",
       " 'sourc': 846,\n",
       " 'reason': 743,\n",
       " 'wear': 960,\n",
       " 'real': 739,\n",
       " 'food': 371,\n",
       " 'whole': 969,\n",
       " 'data': 248,\n",
       " 'defin': 256,\n",
       " 'polit': 684,\n",
       " 'decis': 255,\n",
       " 'dream': 282,\n",
       " 'convert': 226,\n",
       " 'standard': 856,\n",
       " 'yes': 991,\n",
       " 'done': 280,\n",
       " 'pay': 659,\n",
       " 'tax': 891,\n",
       " 'cut': 244,\n",
       " 'without': 975,\n",
       " 'polic': 682,\n",
       " 'offic': 628,\n",
       " 'b': 106,\n",
       " 'commit': 206,\n",
       " 'crime': 237,\n",
       " 'common': 207,\n",
       " 'think': 906,\n",
       " 'late': 503,\n",
       " 'outsid': 644,\n",
       " 'mani': 547,\n",
       " 'die': 269,\n",
       " 'trump': 928,\n",
       " 'ask': 95,\n",
       " 'interview': 472,\n",
       " 'test': 902,\n",
       " 'check': 181,\n",
       " 'cancer': 157,\n",
       " 'interest': 468,\n",
       " 'rate': 733,\n",
       " 'full': 380,\n",
       " 'tv': 931,\n",
       " 'seri': 807,\n",
       " 'next': 615,\n",
       " 'generat': 389,\n",
       " 'order': 641,\n",
       " 'understand': 936,\n",
       " 'stori': 867,\n",
       " 'citi': 190,\n",
       " 'claim': 193,\n",
       " 'hire': 430,\n",
       " 'share': 814,\n",
       " 'candid': 158,\n",
       " 'tell': 900,\n",
       " 'famili': 343,\n",
       " 'improv': 450,\n",
       " 'parent': 653,\n",
       " 'boy': 138,\n",
       " 'almost': 64,\n",
       " 'appear': 84,\n",
       " 'gay': 387,\n",
       " 'hate': 419,\n",
       " 'carri': 164,\n",
       " 'usa': 941,\n",
       " 'non': 618,\n",
       " 'constant': 219,\n",
       " 'legal': 512,\n",
       " '7': 28,\n",
       " 'event': 319,\n",
       " 'sudden': 877,\n",
       " 'earth': 290,\n",
       " 'dead': 251,\n",
       " 'major': 542,\n",
       " 'sign': 820,\n",
       " 'take': 887,\n",
       " 'websit': 962,\n",
       " 'comput': 213,\n",
       " 'tamil': 890,\n",
       " 'compar': 211,\n",
       " 'fix': 366,\n",
       " 'teach': 892,\n",
       " 'speak': 849,\n",
       " 'eye': 335,\n",
       " 'right': 772,\n",
       " 'sexual': 813,\n",
       " 'abus': 37,\n",
       " 'atheist': 97,\n",
       " 'got': 402,\n",
       " 'function': 381,\n",
       " 'organ': 642,\n",
       " 'serv': 808,\n",
       " 'psycholog': 718,\n",
       " 'group': 408,\n",
       " 'mumbai': 597,\n",
       " 'score': 791,\n",
       " 'match': 555,\n",
       " 'motiv': 591,\n",
       " '&': 3,\n",
       " '$': 1,\n",
       " 'paid': 648,\n",
       " 'buy': 149,\n",
       " '8': 29,\n",
       " 'integr': 466,\n",
       " 'mechan': 564,\n",
       " 'relationship': 753,\n",
       " 'break': 143,\n",
       " 'end': 307,\n",
       " 'grade': 404,\n",
       " 'mark': 549,\n",
       " 'matter': 559,\n",
       " 'canada': 156,\n",
       " 'red': 748,\n",
       " 'drop': 285,\n",
       " 'form': 375,\n",
       " 'uk': 935,\n",
       " 'turn': 930,\n",
       " 'realiz': 741,\n",
       " 'hitler': 433,\n",
       " 'shop': 816,\n",
       " 'accomplish': 40,\n",
       " '’': 997,\n",
       " 'chanc': 174,\n",
       " 'father': 348,\n",
       " 'medic': 566,\n",
       " 'fit': 365,\n",
       " 'go': 398,\n",
       " 'rank': 731,\n",
       " 'expect': 330,\n",
       " 'advanc': 54,\n",
       " '2017': 21,\n",
       " 'actor': 47,\n",
       " 'model': 583,\n",
       " 'join': 487,\n",
       " 'week': 963,\n",
       " 'complet': 212,\n",
       " 'north': 620,\n",
       " 'lead': 506,\n",
       " 'taken': 888,\n",
       " 'kind': 492,\n",
       " 'asian': 94,\n",
       " 'give': 395,\n",
       " 'sleep': 831,\n",
       " 'realiti': 740,\n",
       " 'pleas': 680,\n",
       " 'foreign': 374,\n",
       " 'languag': 499,\n",
       " 'cours': 232,\n",
       " 'career': 163,\n",
       " 'opportun': 639,\n",
       " 'smoke': 834,\n",
       " 'singl': 824,\n",
       " 'exampl': 327,\n",
       " 'vs': 952,\n",
       " 'access': 39,\n",
       " 'mind': 580,\n",
       " 'lose': 533,\n",
       " 'result': 767,\n",
       " 'loss': 534,\n",
       " 'well': 965,\n",
       " 'correct': 228,\n",
       " 'french': 378,\n",
       " 'bring': 144,\n",
       " 'european': 317,\n",
       " 'kill': 491,\n",
       " '4': 25,\n",
       " 'australia': 101,\n",
       " 'system': 886,\n",
       " 'connect': 216,\n",
       " 'emot': 304,\n",
       " 'signific': 821,\n",
       " 'electr': 300,\n",
       " \"'m\": 6,\n",
       " 'wo': 976,\n",
       " '10': 14,\n",
       " '%': 2,\n",
       " 'includ': 451,\n",
       " 'past': 658,\n",
       " '5': 26,\n",
       " 'minor': 581,\n",
       " 'avail': 102,\n",
       " 'societi': 836,\n",
       " 'ok': 631,\n",
       " 'extrem': 334,\n",
       " 'phd': 667,\n",
       " 'produc': 706,\n",
       " 'conserv': 217,\n",
       " 'sinc': 823,\n",
       " 'choos': 188,\n",
       " 'condit': 215,\n",
       " 'focus': 369,\n",
       " 'anim': 76,\n",
       " 'bitcoin': 128,\n",
       " 'enjoy': 311,\n",
       " 'topic': 917,\n",
       " '“': 998,\n",
       " 'enough': 312,\n",
       " 'lie': 518,\n",
       " '”': 999,\n",
       " 'know': 493,\n",
       " 'let': 514,\n",
       " 'pictur': 671,\n",
       " 'ban': 111,\n",
       " 'kid': 490,\n",
       " 'arab': 89,\n",
       " 'africa': 58,\n",
       " 'govern': 403,\n",
       " 'must': 600,\n",
       " 'respect': 764,\n",
       " 'heart': 424,\n",
       " 'space': 848,\n",
       " 'secret': 795,\n",
       " 'wish': 973,\n",
       " 'describ': 262,\n",
       " 'devic': 268,\n",
       " 'fact': 338,\n",
       " 'mathemat': 558,\n",
       " 'never': 612,\n",
       " 'solv': 839,\n",
       " 'basic': 115,\n",
       " 'salari': 782,\n",
       " 'theori': 904,\n",
       " 'california': 153,\n",
       " 'math': 557,\n",
       " 'web': 961,\n",
       " 'design': 263,\n",
       " 'teacher': 893,\n",
       " 'home': 435,\n",
       " 'pressur': 699,\n",
       " 'invent': 473,\n",
       " 'product': 707,\n",
       " 'line': 523,\n",
       " 'wrong': 988,\n",
       " 'stay': 861,\n",
       " 'narcissist': 603,\n",
       " 'valu': 945,\n",
       " 'small': 832,\n",
       " 'usual': 944,\n",
       " 'similar': 822,\n",
       " 'experi': 332,\n",
       " 'visit': 950,\n",
       " 'intellig': 467,\n",
       " 'drive': 284,\n",
       " 'unit': 937,\n",
       " '2': 19,\n",
       " 'releas': 754,\n",
       " 'game': 385,\n",
       " 'inspir': 461,\n",
       " 'book': 136,\n",
       " 'master': 554,\n",
       " 'locat': 530,\n",
       " 'develop': 267,\n",
       " 'metal': 574,\n",
       " 'case': 165,\n",
       " 'bit': 127,\n",
       " 'summer': 881,\n",
       " 'china': 186,\n",
       " 'sometim': 842,\n",
       " 'korea': 496,\n",
       " 'russia': 778,\n",
       " 'present': 697,\n",
       " 'presid': 698,\n",
       " 'immigr': 447,\n",
       " 'per': 661,\n",
       " 'natur': 605,\n",
       " 'death': 253,\n",
       " 'exact': 325,\n",
       " 'idea': 442,\n",
       " 'god': 399,\n",
       " 'begin': 118,\n",
       " 'servic': 809,\n",
       " 'alreadi': 66,\n",
       " 'attract': 100,\n",
       " 'talk': 889,\n",
       " 'prevent': 700,\n",
       " 'opinion': 638,\n",
       " 'stand': 855,\n",
       " 'name': 602,\n",
       " 'point': 681,\n",
       " 'made': 540,\n",
       " 'side': 819,\n",
       " 'coach': 199,\n",
       " 'prepar': 696,\n",
       " 'korean': 497,\n",
       " 'son': 843,\n",
       " 'girlfriend': 394,\n",
       " 'base': 114,\n",
       " 'final': 359,\n",
       " 'recommend': 746,\n",
       " 'letter': 515,\n",
       " 'futur': 383,\n",
       " 'style': 874,\n",
       " 'might': 577,\n",
       " 'higher': 428,\n",
       " 'rather': 734,\n",
       " 'allow': 63,\n",
       " 'post': 690,\n",
       " 'save': 784,\n",
       " 'nation': 604,\n",
       " 'apart': 82,\n",
       " 'price': 701,\n",
       " 'self': 801,\n",
       " 'sound': 845,\n",
       " 'digit': 272,\n",
       " 'multipl': 596,\n",
       " 'account': 42,\n",
       " 'materi': 556,\n",
       " 'android': 75,\n",
       " 'purpos': 722,\n",
       " 'believ': 120,\n",
       " 'great': 406,\n",
       " 'placement': 673,\n",
       " 'drug': 286,\n",
       " 'marri': 551,\n",
       " 'delhi': 259,\n",
       " 'factor': 339,\n",
       " 'babi': 107,\n",
       " 'anxieti': 79,\n",
       " 'night': 616,\n",
       " 'alon': 65,\n",
       " 'certain': 171,\n",
       " 'yet': 992,\n",
       " 'expens': 331,\n",
       " 'techniqu': 897,\n",
       " 'novel': 622,\n",
       " 'degre': 257,\n",
       " 'privat': 702,\n",
       " 'limit': 522,\n",
       " 'word': 979,\n",
       " 'abl': 35,\n",
       " 'physic': 670,\n",
       " 'view': 948,\n",
       " 'advic': 56,\n",
       " 'man': 545,\n",
       " 'wife': 970,\n",
       " 'woman': 977,\n",
       " 'ex': 324,\n",
       " 'boyfriend': 139,\n",
       " 'fail': 340,\n",
       " 'subject': 875,\n",
       " 'sell': 802,\n",
       " 'bank': 113,\n",
       " 'beauti': 116,\n",
       " 'promot': 713,\n",
       " 'gun': 411,\n",
       " 'cultur': 241,\n",
       " 'less': 513,\n",
       " 'smart': 833,\n",
       " 'surviv': 884,\n",
       " 'lot': 536,\n",
       " 'distanc': 275,\n",
       " 'solut': 838,\n",
       " 'continu': 222,\n",
       " 'live': 528,\n",
       " 'treat': 924,\n",
       " 'page': 647,\n",
       " 'favorit': 349,\n",
       " 'least': 509,\n",
       " 'java': 483,\n",
       " 'perform': 664,\n",
       " 'accord': 41,\n",
       " 'health': 421,\n",
       " 'perfect': 663,\n",
       " '15': 18,\n",
       " 'chines': 187,\n",
       " 'speed': 852,\n",
       " 'said': 781,\n",
       " 'profil': 709,\n",
       " 'altern': 68,\n",
       " 'inform': 459,\n",
       " 'larg': 501,\n",
       " 'paper': 652,\n",
       " 'team': 894,\n",
       " 'follow': 370,\n",
       " 'overcom': 645,\n",
       " 'profession': 708,\n",
       " 'camera': 155,\n",
       " 'dog': 278,\n",
       " 'benefit': 121,\n",
       " 'control': 224,\n",
       " 'contact': 220,\n",
       " 'liber': 517,\n",
       " 'parti': 655,\n",
       " 'sure': 883,\n",
       " 'popul': 686,\n",
       " 'donald': 279,\n",
       " 'provid': 717,\n",
       " 'avoid': 104,\n",
       " 'necessari': 607,\n",
       " 'remov': 757,\n",
       " 'influenc': 458,\n",
       " 'blue': 133,\n",
       " '30': 24,\n",
       " 'branch': 141,\n",
       " '3': 23,\n",
       " 'famous': 344,\n",
       " 'bangalor': 112,\n",
       " 'room': 775,\n",
       " 'explain': 333,\n",
       " 'given': 396,\n",
       " 'tool': 915,\n",
       " 'hous': 438,\n",
       " 'footbal': 372,\n",
       " 'phone': 668,\n",
       " 'decid': 254,\n",
       " 'return': 768,\n",
       " 'destroy': 264,\n",
       " 'ignor': 443,\n",
       " 'two': 932,\n",
       " 'togeth': 913,\n",
       " 'replac': 758,\n",
       " 'rule': 776,\n",
       " 'build': 147,\n",
       " 'concept': 214,\n",
       " 'averag': 103,\n",
       " 'structur': 870,\n",
       " 'chemic': 182,\n",
       " 'properti': 714,\n",
       " 'found': 376,\n",
       " 'human': 439,\n",
       " 'around': 92,\n",
       " 'behind': 119,\n",
       " 'respons': 765,\n",
       " 'put': 724,\n",
       " 'public': 719,\n",
       " 'song': 844,\n",
       " 'today': 912,\n",
       " 'treatment': 925,\n",
       " 'approach': 88,\n",
       " 'trust': 929,\n",
       " 'illeg': 445,\n",
       " 'delet': 258,\n",
       " 'written': 987,\n",
       " 'set': 810,\n",
       " 'green': 407,\n",
       " 'card': 161,\n",
       " 'suffer': 878,\n",
       " 'seem': 798,\n",
       " 'photo': 669,\n",
       " 'histori': 431,\n",
       " 'sentenc': 805,\n",
       " 'mobil': 582,\n",
       " 'visa': 949,\n",
       " 'cell': 170,\n",
       " 'memori': 569,\n",
       " 'date': 249,\n",
       " 'hear': 423,\n",
       " 'thought': 908,\n",
       " 'recent': 745,\n",
       " 'color': 203,\n",
       " 'scope': 790,\n",
       " 'code': 200,\n",
       " 'charg': 179,\n",
       " 'posit': 688,\n",
       " 'near': 606,\n",
       " 'cat': 166,\n",
       " 'etc': 315,\n",
       " 'sex': 812,\n",
       " 'travel': 923,\n",
       " 'chemistri': 183,\n",
       " 'skin': 830,\n",
       " 'step': 862,\n",
       " 'version': 946,\n",
       " 'youtub': 994,\n",
       " 'graduat': 405,\n",
       " 'econom': 295,\n",
       " 'still': 863,\n",
       " 'field': 355,\n",
       " 'financ': 360,\n",
       " 'daili': 245,\n",
       " 'fight': 356,\n",
       " 'individu': 456,\n",
       " 'rais': 730,\n",
       " 'agre': 61,\n",
       " 'exercis': 328,\n",
       " 'worth': 983,\n",
       " 'due': 287,\n",
       " 'white': 968,\n",
       " 'film': 358,\n",
       " 'project': 712,\n",
       " 'often': 629,\n",
       " 'fake': 341,\n",
       " 'news': 614,\n",
       " 'resourc': 763,\n",
       " 'meet': 567,\n",
       " '6': 27,\n",
       " 'weight': 964,\n",
       " 'accept': 38,\n",
       " 'messag': 572,\n",
       " 'cold': 201,\n",
       " 'far': 345,\n",
       " '20': 20,\n",
       " 'scientist': 789,\n",
       " 'everyon': 322,\n",
       " 'appl': 85,\n",
       " 'impact': 448,\n",
       " 'handl': 415,\n",
       " 'period': 665,\n",
       " 'crack': 234,\n",
       " 'upsc': 939,\n",
       " '100': 15,\n",
       " 'train': 921,\n",
       " 'transfer': 922,\n",
       " 'contribut': 223,\n",
       " 'cbse': 168,\n",
       " 'x': 989,\n",
       " 'last': 502,\n",
       " 'negat': 610,\n",
       " 'file': 357,\n",
       " 'qualiti': 725,\n",
       " 'blood': 132,\n",
       " 'pass': 657,\n",
       " 'oper': 637,\n",
       " 'head': 420,\n",
       " 'insid': 460,\n",
       " 'potenti': 691,\n",
       " 'marriag': 552,\n",
       " 'music': 598,\n",
       " 'plan': 674,\n",
       " 'tech': 895,\n",
       " 'startup': 859,\n",
       " 'children': 185,\n",
       " 'fire': 363,\n",
       " 'amount': 73,\n",
       " 'mother': 590,\n",
       " 'percentag': 662,\n",
       " 'laptop': 500,\n",
       " 'three': 909,\n",
       " 'british': 145,\n",
       " 'member': 568,\n",
       " 'islam': 478,\n",
       " 'suggest': 879,\n",
       " 'obama': 625,\n",
       " 'art': 93,\n",
       " 'sens': 804,\n",
       " 'strong': 869,\n",
       " 'hit': 432,\n",
       " 'male': 544,\n",
       " 'mental': 571,\n",
       " 'may': 560,\n",
       " 'convers': 225,\n",
       " 'strategi': 868,\n",
       " 'instagram': 462,\n",
       " 'anoth': 77,\n",
       " 'refer': 750,\n",
       " 'seat': 793,\n",
       " 'general': 388,\n",
       " 'cover': 233,\n",
       " 'cloth': 198,\n",
       " 'top': 916,\n",
       " 'disord': 274,\n",
       " 'especi': 314,\n",
       " 'israel': 479,\n",
       " 'clean': 195,\n",
       " 'oil': 630,\n",
       " 'hair': 413,\n",
       " 'western': 967,\n",
       " 'danger': 246,\n",
       " 'increas': 453,\n",
       " 'plant': 676,\n",
       " 'forc': 373,\n",
       " 'gain': 384,\n",
       " 'million': 579,\n",
       " 'europ': 316,\n",
       " 'religi': 755,\n",
       " 'specif': 851,\n",
       " 'doctor': 276,\n",
       " 'send': 803,\n",
       " 'caus': 167,\n",
       " 'challeng': 173,\n",
       " 'hotel': 436,\n",
       " 'search': 792,\n",
       " 'attend': 99,\n",
       " 'site': 826,\n",
       " 'christian': 189,\n",
       " 'toward': 919,\n",
       " 'west': 966,\n",
       " 'knowledg': 494,\n",
       " 'address': 51,\n",
       " 'second': 794,\n",
       " 'okay': 632,\n",
       " 'democrat': 260,\n",
       " 'republican': 760,\n",
       " 'switch': 885,\n",
       " 'nuclear': 623,\n",
       " 'difficult': 271,\n",
       " 'prove': 716,\n",
       " 'everyth': 323,\n",
       " 'teenag': 899,\n",
       " 'brother': 146,\n",
       " 'german': 390,\n",
       " 'japan': 481,\n",
       " 'armi': 91,\n",
       " 'husband': 441,\n",
       " 'react': 736,\n",
       " 'global': 397,\n",
       " 'receiv': 744,\n",
       " 'close': 197,\n",
       " 'separ': 806,\n",
       " 'method': 575,\n",
       " 'pakistani': 651,\n",
       " 'rest': 766,\n",
       " 'total': 918,\n",
       " 'analysi': 74,\n",
       " 'industri': 457,\n",
       " 'equal': 313,\n",
       " 'manufactur': 548,\n",
       " 'run': 777,\n",
       " '-': 11,\n",
       " 'origin': 643,\n",
       " 'african': 59,\n",
       " 'femal': 354,\n",
       " 'custom': 243,\n",
       " 'depress': 261,\n",
       " 'modern': 584,\n",
       " 'partner': 656,\n",
       " 'vote': 951,\n",
       " '12': 16,\n",
       " 'employ': 305,\n",
       " 'amazon': 70,\n",
       " 'u.s.': 934,\n",
       " 'america': 71,\n",
       " 'characterist': 178,\n",
       " 'window': 972,\n",
       " 'hold': 434,\n",
       " 'cs': 239,\n",
       " 'leader': 507,\n",
       " 'neet': 609,\n",
       " 'review': 769,\n",
       " 'brain': 140,\n",
       " 'mom': 586,\n",
       " 'writer': 986,\n",
       " '[': 32,\n",
       " ']': 33,\n",
       " 'hour': 437,\n",
       " 'grow': 409,\n",
       " 'reaction': 737,\n",
       " 'elect': 299,\n",
       " 'bill': 126,\n",
       " 'c': 150,\n",
       " 'stupid': 873,\n",
       " 'text': 903,\n",
       " 'easi': 291,\n",
       " 'crush': 238,\n",
       " 'seen': 799,\n",
       " 'flight': 368,\n",
       " 'pregnant': 695,\n",
       " 'action': 45,\n",
       " 'clear': 196,\n",
       " 'cheat': 180,\n",
       " 'pain': 649,\n",
       " 'hurt': 440,\n",
       " 'modi': 585,\n",
       " 'technic': 896,\n",
       " 'employe': 306,\n",
       " 'blog': 131,\n",
       " 'object': 626,\n",
       " 'popular': 687,\n",
       " 'littl': 527,\n",
       " 'fli': 367,\n",
       " 'reach': 735,\n",
       " 'suicid': 880,\n",
       " 'block': 130,\n",
       " 'born': 137,\n",
       " 'later': 504,\n",
       " 'key': 489,\n",
       " 'protect': 715,\n",
       " 'walk': 953,\n",
       " 'hindi': 429,\n",
       " 'growth': 410,\n",
       " 'profit': 710,\n",
       " 'told': 914,\n",
       " 'easili': 292,\n",
       " 'research': 762,\n",
       " 'packag': 646,\n",
       " 'lost': 535,\n",
       " 'land': 498,\n",
       " 'racist': 729,\n",
       " 'sale': 783,\n",
       " 'celebr': 169,\n",
       " 'pune': 720,\n",
       " 'associ': 96,\n",
       " 'short': 817,\n",
       " 'race': 728,\n",
       " 'practic': 693,\n",
       " '12th': 17,\n",
       " 'add': 50,\n",
       " 'biggest': 125,\n",
       " 'met': 573,\n",
       " 'religion': 756,\n",
       " 'sister': 825,\n",
       " 'user': 943,\n",
       " 'store': 866,\n",
       " 'polici': 683,\n",
       " 'heat': 425,\n",
       " 'els': 302,\n",
       " 'risk': 773,\n",
       " 'rid': 771,\n",
       " 'happi': 417,\n",
       " 'situat': 827,\n",
       " 'content': 221,\n",
       " 'link': 524,\n",
       " 'weapon': 959,\n",
       " 'sport': 854,\n",
       " 'nit': 617,\n",
       " 'cse': 240,\n",
       " 'ms': 594,\n",
       " 'comment': 205,\n",
       " 'credit': 236,\n",
       " 'imag': 446,\n",
       " '!': 0,\n",
       " 'communiti': 209,\n",
       " 'ad': 49,\n",
       " 'channel': 176,\n",
       " '{': 995,\n",
       " '}': 996,\n",
       " 'fat': 347,\n",
       " 'incom': 452,\n",
       " 'earli': 288,\n",
       " 'listen': 526,\n",
       " 'loan': 529,\n",
       " 'report': 759,\n",
       " 'convinc': 227,\n",
       " 'involv': 475,\n",
       " 'planet': 675}"
      ]
     },
     "execution_count": 107,
     "metadata": {},
     "output_type": "execute_result"
    }
   ],
   "source": [
    "vectorizer.vocabulary_"
   ]
  },
  {
   "cell_type": "code",
   "execution_count": 108,
   "id": "e8e1ab6b-1a23-4c38-ab7e-2c438cf8f008",
   "metadata": {},
   "outputs": [
    {
     "data": {
      "text/plain": [
       "1000"
      ]
     },
     "execution_count": 108,
     "metadata": {},
     "output_type": "execute_result"
    }
   ],
   "source": [
    "len(vectorizer.vocabulary_)"
   ]
  },
  {
   "cell_type": "code",
   "execution_count": 110,
   "id": "a23e139d-bfed-44f6-b036-08914fdf9607",
   "metadata": {},
   "outputs": [
    {
     "data": {
      "text/plain": [
       "array(['!', '$', '%', '&', \"'\", \"''\", \"'m\", \"'s\", '(', ')', ',', '-', '.',\n",
       "       '1', '10', '100', '12', '12th', '15', '2', '20', '2017', '2018',\n",
       "       '3', '30', '4', '5', '6', '7', '8', ':', '?', '[', ']', '``',\n",
       "       'abl', 'abroad', 'abus', 'accept', 'access', 'accomplish',\n",
       "       'accord', 'account', 'achiev', 'act', 'action', 'activ', 'actor',\n",
       "       'actual', 'ad', 'add', 'address', 'admiss', 'adult', 'advanc',\n",
       "       'advantag', 'advic', 'affect', 'africa', 'african', 'age', 'agre',\n",
       "       'air', 'allow', 'almost', 'alon', 'alreadi', 'also', 'altern',\n",
       "       'alway', 'amazon', 'america', 'american', 'amount', 'analysi',\n",
       "       'android', 'anim', 'anoth', 'answer', 'anxieti', 'anyon', 'anyth',\n",
       "       'apart', 'app', 'appear', 'appl', 'appli', 'applic', 'approach',\n",
       "       'arab', 'area', 'armi', 'around', 'art', 'asian', 'ask', 'associ',\n",
       "       'atheist', 'attack', 'attend'], dtype=object)"
      ]
     },
     "execution_count": 110,
     "metadata": {},
     "output_type": "execute_result"
    }
   ],
   "source": [
    "vectorizer.get_feature_names_out()[:100] # we can use the vocab with stop word removal nad stemming"
   ]
  },
  {
   "cell_type": "code",
   "execution_count": 116,
   "id": "0a63c0cd-e693-41fb-b18b-c6f4e91757ce",
   "metadata": {},
   "outputs": [
    {
     "data": {
      "text/plain": [
       "443046     What is the most effective classroom managemen...\n",
       "947549     Can I study abroad after 10th class from Bangl...\n",
       "523769           How can I make friends as a college junior?\n",
       "949821     How do I download free APK Minecraft: Pocket E...\n",
       "1030397    Like Kuvera, is \"Groww\" also a free online inv...\n",
       "                                 ...                        \n",
       "998930     How do I research list of reliable charcoal im...\n",
       "66641      What are petroleum products, and what is petro...\n",
       "90024      What are some services that will let you quick...\n",
       "130113     What credit card processors do online marketpl...\n",
       "1137            On which number system does a computer work?\n",
       "Name: question_text, Length: 100000, dtype: object"
      ]
     },
     "execution_count": 116,
     "metadata": {},
     "output_type": "execute_result"
    }
   ],
   "source": [
    "sample_df.question_text"
   ]
  },
  {
   "cell_type": "code",
   "execution_count": 119,
   "id": "bca45768-1db2-4c34-ad5c-d33e596ffdd1",
   "metadata": {},
   "outputs": [
    {
     "name": "stdout",
     "output_type": "stream",
     "text": [
      "CPU times: total: 57 s\n",
      "Wall time: 58.2 s\n"
     ]
    }
   ],
   "source": [
    "%%time\n",
    "# converting text into vectors\n",
    "input = vectorizer.transform(sample_df.question_text) # this is going to be the input for ml model which we will build"
   ]
  },
  {
   "cell_type": "code",
   "execution_count": 120,
   "id": "c6dfe966-71a4-4658-bca3-9369730224e6",
   "metadata": {},
   "outputs": [
    {
     "data": {
      "text/plain": [
       "(100000, 1000)"
      ]
     },
     "execution_count": 120,
     "metadata": {},
     "output_type": "execute_result"
    }
   ],
   "source": [
    "input.shape"
   ]
  },
  {
   "cell_type": "code",
   "execution_count": 122,
   "id": "307991f9-1881-45e4-99e8-cb4f163fab85",
   "metadata": {},
   "outputs": [
    {
     "data": {
      "text/plain": [
       "<100000x1000 sparse matrix of type '<class 'numpy.int64'>'\n",
       "\twith 523330 stored elements in Compressed Sparse Row format>"
      ]
     },
     "execution_count": 122,
     "metadata": {},
     "output_type": "execute_result"
    }
   ],
   "source": [
    "input"
   ]
  },
  {
   "cell_type": "code",
   "execution_count": 123,
   "id": "28e0ca53-63ea-4b7f-88c4-62b4cc20e956",
   "metadata": {
    "scrolled": true
   },
   "outputs": [
    {
     "data": {
      "text/plain": [
       "array([[0, 0, 0, 0, 0, 0, 0, 0, 0, 0, 0, 0, 0, 0, 0, 0, 0, 0, 0, 0, 0, 0,\n",
       "        0, 0, 0, 0, 0, 0, 0, 0, 0, 1, 0, 0, 0, 0, 0, 0, 0, 0, 0, 0, 0, 0,\n",
       "        0, 0, 0, 0, 0, 0, 0, 0, 0, 0, 0, 0, 0, 0, 0, 0, 0, 0, 0, 0, 0, 0,\n",
       "        0, 0, 0, 0, 0, 0, 0, 0, 0, 0, 0, 0, 0, 0, 0, 0, 0, 0, 0, 0, 0, 0,\n",
       "        0, 0, 0, 0, 0, 0, 0, 0, 0, 0, 0, 0, 0, 0, 0, 0, 0, 0, 0, 0, 0, 0,\n",
       "        0, 0, 0, 0, 0, 0, 0, 0, 0, 0, 0, 0, 0, 0, 0, 0, 0, 0, 0, 0, 0, 0,\n",
       "        0, 0, 0, 0, 0, 0, 0, 0, 0, 0, 0, 0, 0, 0, 0, 0, 0, 0, 0, 0, 0, 0,\n",
       "        0, 0, 0, 0, 0, 0, 0, 0, 0, 0, 0, 0, 0, 0, 0, 0, 0, 0, 0, 0, 0, 0,\n",
       "        0, 0, 0, 0, 0, 0, 0, 0, 0, 0, 0, 0, 0, 0, 0, 0, 0, 0, 0, 0, 0, 0,\n",
       "        0, 0, 0, 0, 0, 0, 0, 0, 0, 0, 0, 0, 0, 0, 0, 0, 0, 0, 0, 0, 0, 0,\n",
       "        0, 0, 0, 0, 0, 0, 0, 0, 0, 0, 0, 0, 0, 0, 0, 1, 0, 0, 0, 0, 0, 0,\n",
       "        0, 0, 0, 0, 0, 0, 0, 0, 0, 0, 0, 0, 0, 0, 0, 0, 0, 0, 0, 0, 0, 0,\n",
       "        0, 0, 0, 0, 0, 0, 0, 0, 0, 0, 0, 0, 0, 0, 0, 0, 0, 0, 0, 0, 0, 0,\n",
       "        0, 0, 0, 0, 0, 0, 0, 0, 0, 0, 0, 0, 1, 0, 0, 0, 0, 0, 0, 0, 0, 0,\n",
       "        0, 0, 0, 0, 0, 0, 0, 0, 0, 0, 0, 0, 0, 0, 0, 0, 0, 0, 0, 0, 0, 0,\n",
       "        0, 0, 0, 0, 0, 0, 0, 0, 0, 0, 0, 0, 0, 0, 0, 0, 0, 0, 0, 0, 0, 0,\n",
       "        0, 0, 0, 0, 0, 0, 0, 0, 0, 0, 0, 0, 0, 0, 0, 0, 0, 0, 0, 0, 0, 0,\n",
       "        0, 0, 0, 0, 0, 0, 0, 0, 0, 0, 0, 0, 0, 0, 0, 0, 0, 0, 0, 0, 0, 0,\n",
       "        0, 0, 0, 0, 1, 0, 0, 0, 0, 0, 0, 0, 0, 0, 0, 0, 0, 0, 0, 0, 0, 0,\n",
       "        0, 0, 0, 0, 0, 0, 0, 0, 0, 0, 0, 0, 0, 0, 0, 0, 0, 0, 0, 0, 0, 0,\n",
       "        0, 0, 0, 0, 0, 0, 0, 0, 0, 0, 0, 0, 0, 0, 0, 0, 0, 0, 0, 0, 0, 0,\n",
       "        0, 0, 0, 0, 0, 0, 0, 0, 0, 0, 0, 0, 0, 0, 0, 0, 0, 0, 0, 0, 0, 0,\n",
       "        0, 0, 0, 0, 0, 0, 0, 0, 0, 0, 0, 0, 0, 0, 0, 0, 0, 0, 0, 0, 0, 0,\n",
       "        0, 0, 1, 0, 0, 0, 0, 0, 0, 0, 0, 0, 0, 0, 0, 0, 0, 0, 0, 0, 0, 0,\n",
       "        0, 0, 0, 0, 0, 0, 0, 0, 0, 0, 0, 0, 0, 0, 0, 0, 0, 0, 1, 0, 0, 0,\n",
       "        0, 0, 0, 0, 0, 0, 0, 0, 0, 0, 0, 0, 0, 0, 0, 0, 0, 0, 0, 0, 0, 0,\n",
       "        0, 0, 0, 0, 0, 0, 0, 0, 0, 0, 0, 0, 0, 0, 0, 0, 0, 0, 0, 0, 0, 0,\n",
       "        0, 0, 0, 0, 0, 0, 0, 0, 0, 0, 0, 0, 0, 0, 0, 0, 0, 0, 0, 0, 0, 0,\n",
       "        0, 0, 0, 0, 0, 0, 0, 0, 0, 0, 0, 0, 0, 0, 0, 0, 0, 0, 0, 0, 0, 0,\n",
       "        0, 0, 0, 0, 0, 0, 0, 0, 0, 0, 0, 0, 0, 0, 0, 0, 0, 0, 0, 0, 0, 0,\n",
       "        0, 0, 0, 0, 0, 0, 0, 0, 0, 0, 0, 0, 0, 0, 0, 0, 0, 0, 0, 0, 0, 0,\n",
       "        0, 0, 0, 0, 0, 0, 0, 0, 0, 0, 0, 0, 0, 0, 0, 0, 0, 0, 0, 0, 0, 0,\n",
       "        0, 0, 0, 0, 0, 0, 0, 0, 0, 0, 0, 0, 0, 0, 0, 0, 0, 0, 0, 0, 0, 0,\n",
       "        0, 0, 0, 0, 0, 0, 0, 0, 0, 0, 0, 0, 0, 0, 0, 0, 0, 0, 0, 0, 0, 0,\n",
       "        0, 0, 0, 0, 0, 0, 0, 0, 0, 0, 0, 0, 0, 0, 0, 0, 0, 0, 0, 0, 0, 0,\n",
       "        0, 0, 0, 0, 0, 0, 0, 0, 0, 0, 0, 0, 0, 0, 0, 0, 0, 0, 0, 0, 0, 0,\n",
       "        0, 0, 0, 0, 0, 0, 0, 0, 0, 0, 0, 0, 0, 0, 0, 0, 0, 0, 0, 0, 0, 0,\n",
       "        0, 0, 0, 0, 0, 0, 0, 0, 0, 0, 0, 0, 0, 0, 0, 0, 0, 0, 0, 0, 0, 0,\n",
       "        0, 0, 0, 0, 0, 0, 0, 0, 0, 0, 0, 0, 0, 0, 0, 0, 0, 0, 0, 0, 0, 0,\n",
       "        0, 0, 0, 0, 0, 0, 0, 0, 0, 0, 0, 0, 0, 0, 0, 0, 0, 0, 0, 0, 0, 0,\n",
       "        0, 0, 0, 0, 0, 0, 0, 0, 0, 0, 0, 0, 0, 0, 0, 0, 0, 0, 0, 0, 0, 0,\n",
       "        0, 0, 0, 0, 0, 0, 0, 0, 0, 0, 0, 0, 0, 0, 0, 0, 0, 0, 0, 0, 0, 0,\n",
       "        0, 0, 0, 0, 0, 0, 0, 0, 0, 0, 0, 0, 0, 0, 0, 0, 0, 0, 0, 0, 0, 0,\n",
       "        0, 0, 0, 0, 0, 0, 0, 0, 0, 0, 0, 0, 0, 0, 0, 0, 0, 0, 0, 0, 0, 0,\n",
       "        0, 0, 0, 0, 0, 0, 0, 0, 0, 0, 0, 0, 0, 0, 0, 0, 0, 0, 0, 0, 0, 0,\n",
       "        0, 0, 0, 0, 0, 0, 0, 0, 0, 0]], dtype=int64)"
      ]
     },
     "execution_count": 123,
     "metadata": {},
     "output_type": "execute_result"
    }
   ],
   "source": [
    "input[0].toarray()"
   ]
  },
  {
   "cell_type": "code",
   "execution_count": 124,
   "id": "6ac18077-9cab-4abc-9355-5d14d4d87814",
   "metadata": {},
   "outputs": [
    {
     "data": {
      "text/plain": [
       "'What is the most effective classroom management skill/technique to create a good learning environment?'"
      ]
     },
     "execution_count": 124,
     "metadata": {},
     "output_type": "execute_result"
    }
   ],
   "source": [
    "sample_df.question_text.values[0]"
   ]
  },
  {
   "cell_type": "code",
   "execution_count": 125,
   "id": "ef99e418-c80e-4151-adf0-27a0e17fd9e2",
   "metadata": {},
   "outputs": [
    {
     "data": {
      "text/html": [
       "<div>\n",
       "<style scoped>\n",
       "    .dataframe tbody tr th:only-of-type {\n",
       "        vertical-align: middle;\n",
       "    }\n",
       "\n",
       "    .dataframe tbody tr th {\n",
       "        vertical-align: top;\n",
       "    }\n",
       "\n",
       "    .dataframe thead th {\n",
       "        text-align: right;\n",
       "    }\n",
       "</style>\n",
       "<table border=\"1\" class=\"dataframe\">\n",
       "  <thead>\n",
       "    <tr style=\"text-align: right;\">\n",
       "      <th></th>\n",
       "      <th>qid</th>\n",
       "      <th>question_text</th>\n",
       "    </tr>\n",
       "  </thead>\n",
       "  <tbody>\n",
       "    <tr>\n",
       "      <th>0</th>\n",
       "      <td>0000163e3ea7c7a74cd7</td>\n",
       "      <td>Why do so many women become so rude and arroga...</td>\n",
       "    </tr>\n",
       "    <tr>\n",
       "      <th>1</th>\n",
       "      <td>00002bd4fb5d505b9161</td>\n",
       "      <td>When should I apply for RV college of engineer...</td>\n",
       "    </tr>\n",
       "    <tr>\n",
       "      <th>2</th>\n",
       "      <td>00007756b4a147d2b0b3</td>\n",
       "      <td>What is it really like to be a nurse practitio...</td>\n",
       "    </tr>\n",
       "    <tr>\n",
       "      <th>3</th>\n",
       "      <td>000086e4b7e1c7146103</td>\n",
       "      <td>Who are entrepreneurs?</td>\n",
       "    </tr>\n",
       "    <tr>\n",
       "      <th>4</th>\n",
       "      <td>0000c4c3fbe8785a3090</td>\n",
       "      <td>Is education really making good people nowadays?</td>\n",
       "    </tr>\n",
       "    <tr>\n",
       "      <th>...</th>\n",
       "      <td>...</td>\n",
       "      <td>...</td>\n",
       "    </tr>\n",
       "    <tr>\n",
       "      <th>375801</th>\n",
       "      <td>ffff7fa746bd6d6197a9</td>\n",
       "      <td>How many countries listed in gold import in in...</td>\n",
       "    </tr>\n",
       "    <tr>\n",
       "      <th>375802</th>\n",
       "      <td>ffffa1be31c43046ab6b</td>\n",
       "      <td>Is there an alternative to dresses on formal p...</td>\n",
       "    </tr>\n",
       "    <tr>\n",
       "      <th>375803</th>\n",
       "      <td>ffffae173b6ca6bfa563</td>\n",
       "      <td>Where I can find best friendship quotes in Tel...</td>\n",
       "    </tr>\n",
       "    <tr>\n",
       "      <th>375804</th>\n",
       "      <td>ffffb1f7f1a008620287</td>\n",
       "      <td>What are the causes of refraction of light?</td>\n",
       "    </tr>\n",
       "    <tr>\n",
       "      <th>375805</th>\n",
       "      <td>fffff85473f4699474b0</td>\n",
       "      <td>Climate change is a worrying topic. How much t...</td>\n",
       "    </tr>\n",
       "  </tbody>\n",
       "</table>\n",
       "<p>375806 rows × 2 columns</p>\n",
       "</div>"
      ],
      "text/plain": [
       "                         qid  \\\n",
       "0       0000163e3ea7c7a74cd7   \n",
       "1       00002bd4fb5d505b9161   \n",
       "2       00007756b4a147d2b0b3   \n",
       "3       000086e4b7e1c7146103   \n",
       "4       0000c4c3fbe8785a3090   \n",
       "...                      ...   \n",
       "375801  ffff7fa746bd6d6197a9   \n",
       "375802  ffffa1be31c43046ab6b   \n",
       "375803  ffffae173b6ca6bfa563   \n",
       "375804  ffffb1f7f1a008620287   \n",
       "375805  fffff85473f4699474b0   \n",
       "\n",
       "                                            question_text  \n",
       "0       Why do so many women become so rude and arroga...  \n",
       "1       When should I apply for RV college of engineer...  \n",
       "2       What is it really like to be a nurse practitio...  \n",
       "3                                  Who are entrepreneurs?  \n",
       "4        Is education really making good people nowadays?  \n",
       "...                                                   ...  \n",
       "375801  How many countries listed in gold import in in...  \n",
       "375802  Is there an alternative to dresses on formal p...  \n",
       "375803  Where I can find best friendship quotes in Tel...  \n",
       "375804        What are the causes of refraction of light?  \n",
       "375805  Climate change is a worrying topic. How much t...  \n",
       "\n",
       "[375806 rows x 2 columns]"
      ]
     },
     "execution_count": 125,
     "metadata": {},
     "output_type": "execute_result"
    }
   ],
   "source": [
    "test_df"
   ]
  },
  {
   "cell_type": "code",
   "execution_count": 127,
   "id": "184dc22c-cda0-4a07-a3ac-6cdc47ff8919",
   "metadata": {},
   "outputs": [
    {
     "name": "stdout",
     "output_type": "stream",
     "text": [
      "CPU times: total: 6min 12s\n",
      "Wall time: 7min 9s\n"
     ]
    }
   ],
   "source": [
    "%%time\n",
    "test_input = vectorizer.transform(test_df.question_text)\n",
    "# we didn't fit the vectorizer on text set bcz when the vectorizer have learned the vocabulary from the train data then it is\n",
    "# going to create the vectors fo trining data using that vocabulary\n",
    "# so when we get new data if we re learn the vocabulary then oder will get change so the new vectors may not make any sense that's y the\n",
    "# vocabulary should be learned only once on the training data"
   ]
  },
  {
   "cell_type": "markdown",
   "id": "3937a9a6-ad53-40a1-ba6b-d28489bccb31",
   "metadata": {},
   "source": [
    "## ML Models for Text Classification\n",
    "\n",
    "Outline:\n",
    "\n",
    "- Create a training & validation set\n",
    "- Train a logistic regression model\n",
    "- Make predictions on training, validation & test data\n",
    "\n",
    "### Split into Training and Validation Set"
   ]
  },
  {
   "cell_type": "code",
   "execution_count": 128,
   "id": "30cb0db3-7639-4110-b484-4f5f738883c7",
   "metadata": {},
   "outputs": [
    {
     "data": {
      "text/html": [
       "<div>\n",
       "<style scoped>\n",
       "    .dataframe tbody tr th:only-of-type {\n",
       "        vertical-align: middle;\n",
       "    }\n",
       "\n",
       "    .dataframe tbody tr th {\n",
       "        vertical-align: top;\n",
       "    }\n",
       "\n",
       "    .dataframe thead th {\n",
       "        text-align: right;\n",
       "    }\n",
       "</style>\n",
       "<table border=\"1\" class=\"dataframe\">\n",
       "  <thead>\n",
       "    <tr style=\"text-align: right;\">\n",
       "      <th></th>\n",
       "      <th>qid</th>\n",
       "      <th>question_text</th>\n",
       "      <th>target</th>\n",
       "    </tr>\n",
       "  </thead>\n",
       "  <tbody>\n",
       "    <tr>\n",
       "      <th>443046</th>\n",
       "      <td>56d324bb1e2c29f43b12</td>\n",
       "      <td>What is the most effective classroom managemen...</td>\n",
       "      <td>0</td>\n",
       "    </tr>\n",
       "    <tr>\n",
       "      <th>947549</th>\n",
       "      <td>b9ad893dc78c577f8a63</td>\n",
       "      <td>Can I study abroad after 10th class from Bangl...</td>\n",
       "      <td>0</td>\n",
       "    </tr>\n",
       "    <tr>\n",
       "      <th>523769</th>\n",
       "      <td>6689ebaeeb65b209a412</td>\n",
       "      <td>How can I make friends as a college junior?</td>\n",
       "      <td>0</td>\n",
       "    </tr>\n",
       "    <tr>\n",
       "      <th>949821</th>\n",
       "      <td>ba1e2c4a0fef09671516</td>\n",
       "      <td>How do I download free APK Minecraft: Pocket E...</td>\n",
       "      <td>0</td>\n",
       "    </tr>\n",
       "    <tr>\n",
       "      <th>1030397</th>\n",
       "      <td>c9ea2b69bf0d74626f46</td>\n",
       "      <td>Like Kuvera, is \"Groww\" also a free online inv...</td>\n",
       "      <td>0</td>\n",
       "    </tr>\n",
       "    <tr>\n",
       "      <th>...</th>\n",
       "      <td>...</td>\n",
       "      <td>...</td>\n",
       "      <td>...</td>\n",
       "    </tr>\n",
       "    <tr>\n",
       "      <th>998930</th>\n",
       "      <td>c3c03a307a29c69971b4</td>\n",
       "      <td>How do I research list of reliable charcoal im...</td>\n",
       "      <td>0</td>\n",
       "    </tr>\n",
       "    <tr>\n",
       "      <th>66641</th>\n",
       "      <td>0d119aba95ee6684f506</td>\n",
       "      <td>What are petroleum products, and what is petro...</td>\n",
       "      <td>0</td>\n",
       "    </tr>\n",
       "    <tr>\n",
       "      <th>90024</th>\n",
       "      <td>11a46cd148a104b271cf</td>\n",
       "      <td>What are some services that will let you quick...</td>\n",
       "      <td>0</td>\n",
       "    </tr>\n",
       "    <tr>\n",
       "      <th>130113</th>\n",
       "      <td>1973e6e2111a0c93193a</td>\n",
       "      <td>What credit card processors do online marketpl...</td>\n",
       "      <td>0</td>\n",
       "    </tr>\n",
       "    <tr>\n",
       "      <th>1137</th>\n",
       "      <td>0037ed037520d82393c0</td>\n",
       "      <td>On which number system does a computer work?</td>\n",
       "      <td>0</td>\n",
       "    </tr>\n",
       "  </tbody>\n",
       "</table>\n",
       "<p>100000 rows × 3 columns</p>\n",
       "</div>"
      ],
      "text/plain": [
       "                          qid  \\\n",
       "443046   56d324bb1e2c29f43b12   \n",
       "947549   b9ad893dc78c577f8a63   \n",
       "523769   6689ebaeeb65b209a412   \n",
       "949821   ba1e2c4a0fef09671516   \n",
       "1030397  c9ea2b69bf0d74626f46   \n",
       "...                       ...   \n",
       "998930   c3c03a307a29c69971b4   \n",
       "66641    0d119aba95ee6684f506   \n",
       "90024    11a46cd148a104b271cf   \n",
       "130113   1973e6e2111a0c93193a   \n",
       "1137     0037ed037520d82393c0   \n",
       "\n",
       "                                             question_text  target  \n",
       "443046   What is the most effective classroom managemen...       0  \n",
       "947549   Can I study abroad after 10th class from Bangl...       0  \n",
       "523769         How can I make friends as a college junior?       0  \n",
       "949821   How do I download free APK Minecraft: Pocket E...       0  \n",
       "1030397  Like Kuvera, is \"Groww\" also a free online inv...       0  \n",
       "...                                                    ...     ...  \n",
       "998930   How do I research list of reliable charcoal im...       0  \n",
       "66641    What are petroleum products, and what is petro...       0  \n",
       "90024    What are some services that will let you quick...       0  \n",
       "130113   What credit card processors do online marketpl...       0  \n",
       "1137          On which number system does a computer work?       0  \n",
       "\n",
       "[100000 rows x 3 columns]"
      ]
     },
     "execution_count": 128,
     "metadata": {},
     "output_type": "execute_result"
    }
   ],
   "source": [
    "sample_df"
   ]
  },
  {
   "cell_type": "code",
   "execution_count": 130,
   "id": "d718628d-036f-404a-afd8-ed05c00dd99f",
   "metadata": {},
   "outputs": [
    {
     "data": {
      "text/plain": [
       "(100000, 1000)"
      ]
     },
     "execution_count": 130,
     "metadata": {},
     "output_type": "execute_result"
    }
   ],
   "source": [
    "input.shape"
   ]
  },
  {
   "cell_type": "code",
   "execution_count": 131,
   "id": "f3823ed5-d729-4767-a379-b40b7533b42e",
   "metadata": {},
   "outputs": [],
   "source": [
    "from sklearn.model_selection import train_test_split"
   ]
  },
  {
   "cell_type": "code",
   "execution_count": 132,
   "id": "ed7ad144-df15-4554-87d8-b7a90bdff4e8",
   "metadata": {},
   "outputs": [],
   "source": [
    "train_inputs, val_inputs, train_targets, val_targets = train_test_split(input, sample_df.target, test_size=0.3, random_state=42)"
   ]
  },
  {
   "cell_type": "code",
   "execution_count": 134,
   "id": "bd44a552-eba2-4f6b-8da7-07b6fc8c152d",
   "metadata": {},
   "outputs": [
    {
     "data": {
      "text/plain": [
       "(70000, 1000)"
      ]
     },
     "execution_count": 134,
     "metadata": {},
     "output_type": "execute_result"
    }
   ],
   "source": [
    "train_inputs.shape"
   ]
  },
  {
   "cell_type": "code",
   "execution_count": 135,
   "id": "26ee7d89-719b-4229-b912-cda54ef88c88",
   "metadata": {},
   "outputs": [
    {
     "data": {
      "text/plain": [
       "(30000, 1000)"
      ]
     },
     "execution_count": 135,
     "metadata": {},
     "output_type": "execute_result"
    }
   ],
   "source": [
    "val_inputs.shape"
   ]
  },
  {
   "cell_type": "code",
   "execution_count": 136,
   "id": "c32d718e-c3d5-406a-8a9a-5f58bad36c88",
   "metadata": {},
   "outputs": [
    {
     "data": {
      "text/plain": [
       "((70000,), (30000,))"
      ]
     },
     "execution_count": 136,
     "metadata": {},
     "output_type": "execute_result"
    }
   ],
   "source": [
    "train_targets.shape, val_targets.shape"
   ]
  },
  {
   "cell_type": "markdown",
   "id": "5a131df1-f168-44bf-aeec-7eea3955a5f6",
   "metadata": {},
   "source": [
    "### Train Logistic Regression model"
   ]
  },
  {
   "cell_type": "code",
   "execution_count": 137,
   "id": "25e081f3-4c0f-4f82-995d-7de367eb2a3e",
   "metadata": {},
   "outputs": [],
   "source": [
    "from sklearn.linear_model import LogisticRegression"
   ]
  },
  {
   "cell_type": "code",
   "execution_count": 138,
   "id": "1737cecb-c0ea-4a85-a29c-3955bc503b80",
   "metadata": {},
   "outputs": [],
   "source": [
    "MAX_ITER = 1000 # this is the number of epoch model will get train"
   ]
  },
  {
   "cell_type": "code",
   "execution_count": 139,
   "id": "a6d664a1-128f-40dc-8ca7-e08674495311",
   "metadata": {},
   "outputs": [],
   "source": [
    "model = LogisticRegression(max_iter=MAX_ITER, solver='sag')"
   ]
  },
  {
   "cell_type": "code",
   "execution_count": 140,
   "id": "8912cf53-ee8e-4a45-814d-16b50ce50c77",
   "metadata": {},
   "outputs": [
    {
     "name": "stdout",
     "output_type": "stream",
     "text": [
      "CPU times: total: 1min 11s\n",
      "Wall time: 1min 32s\n"
     ]
    },
    {
     "name": "stderr",
     "output_type": "stream",
     "text": [
      "C:\\Program Files\\Python310\\lib\\site-packages\\sklearn\\linear_model\\_sag.py:350: ConvergenceWarning: The max_iter was reached which means the coef_ did not converge\n",
      "  warnings.warn(\n"
     ]
    },
    {
     "data": {
      "text/html": [
       "<style>#sk-container-id-6 {color: black;background-color: white;}#sk-container-id-6 pre{padding: 0;}#sk-container-id-6 div.sk-toggleable {background-color: white;}#sk-container-id-6 label.sk-toggleable__label {cursor: pointer;display: block;width: 100%;margin-bottom: 0;padding: 0.3em;box-sizing: border-box;text-align: center;}#sk-container-id-6 label.sk-toggleable__label-arrow:before {content: \"▸\";float: left;margin-right: 0.25em;color: #696969;}#sk-container-id-6 label.sk-toggleable__label-arrow:hover:before {color: black;}#sk-container-id-6 div.sk-estimator:hover label.sk-toggleable__label-arrow:before {color: black;}#sk-container-id-6 div.sk-toggleable__content {max-height: 0;max-width: 0;overflow: hidden;text-align: left;background-color: #f0f8ff;}#sk-container-id-6 div.sk-toggleable__content pre {margin: 0.2em;color: black;border-radius: 0.25em;background-color: #f0f8ff;}#sk-container-id-6 input.sk-toggleable__control:checked~div.sk-toggleable__content {max-height: 200px;max-width: 100%;overflow: auto;}#sk-container-id-6 input.sk-toggleable__control:checked~label.sk-toggleable__label-arrow:before {content: \"▾\";}#sk-container-id-6 div.sk-estimator input.sk-toggleable__control:checked~label.sk-toggleable__label {background-color: #d4ebff;}#sk-container-id-6 div.sk-label input.sk-toggleable__control:checked~label.sk-toggleable__label {background-color: #d4ebff;}#sk-container-id-6 input.sk-hidden--visually {border: 0;clip: rect(1px 1px 1px 1px);clip: rect(1px, 1px, 1px, 1px);height: 1px;margin: -1px;overflow: hidden;padding: 0;position: absolute;width: 1px;}#sk-container-id-6 div.sk-estimator {font-family: monospace;background-color: #f0f8ff;border: 1px dotted black;border-radius: 0.25em;box-sizing: border-box;margin-bottom: 0.5em;}#sk-container-id-6 div.sk-estimator:hover {background-color: #d4ebff;}#sk-container-id-6 div.sk-parallel-item::after {content: \"\";width: 100%;border-bottom: 1px solid gray;flex-grow: 1;}#sk-container-id-6 div.sk-label:hover label.sk-toggleable__label {background-color: #d4ebff;}#sk-container-id-6 div.sk-serial::before {content: \"\";position: absolute;border-left: 1px solid gray;box-sizing: border-box;top: 0;bottom: 0;left: 50%;z-index: 0;}#sk-container-id-6 div.sk-serial {display: flex;flex-direction: column;align-items: center;background-color: white;padding-right: 0.2em;padding-left: 0.2em;position: relative;}#sk-container-id-6 div.sk-item {position: relative;z-index: 1;}#sk-container-id-6 div.sk-parallel {display: flex;align-items: stretch;justify-content: center;background-color: white;position: relative;}#sk-container-id-6 div.sk-item::before, #sk-container-id-6 div.sk-parallel-item::before {content: \"\";position: absolute;border-left: 1px solid gray;box-sizing: border-box;top: 0;bottom: 0;left: 50%;z-index: -1;}#sk-container-id-6 div.sk-parallel-item {display: flex;flex-direction: column;z-index: 1;position: relative;background-color: white;}#sk-container-id-6 div.sk-parallel-item:first-child::after {align-self: flex-end;width: 50%;}#sk-container-id-6 div.sk-parallel-item:last-child::after {align-self: flex-start;width: 50%;}#sk-container-id-6 div.sk-parallel-item:only-child::after {width: 0;}#sk-container-id-6 div.sk-dashed-wrapped {border: 1px dashed gray;margin: 0 0.4em 0.5em 0.4em;box-sizing: border-box;padding-bottom: 0.4em;background-color: white;}#sk-container-id-6 div.sk-label label {font-family: monospace;font-weight: bold;display: inline-block;line-height: 1.2em;}#sk-container-id-6 div.sk-label-container {text-align: center;}#sk-container-id-6 div.sk-container {/* jupyter's `normalize.less` sets `[hidden] { display: none; }` but bootstrap.min.css set `[hidden] { display: none !important; }` so we also need the `!important` here to be able to override the default hidden behavior on the sphinx rendered scikit-learn.org. See: https://github.com/scikit-learn/scikit-learn/issues/21755 */display: inline-block !important;position: relative;}#sk-container-id-6 div.sk-text-repr-fallback {display: none;}</style><div id=\"sk-container-id-6\" class=\"sk-top-container\"><div class=\"sk-text-repr-fallback\"><pre>LogisticRegression(max_iter=1000, solver=&#x27;sag&#x27;)</pre><b>In a Jupyter environment, please rerun this cell to show the HTML representation or trust the notebook. <br />On GitHub, the HTML representation is unable to render, please try loading this page with nbviewer.org.</b></div><div class=\"sk-container\" hidden><div class=\"sk-item\"><div class=\"sk-estimator sk-toggleable\"><input class=\"sk-toggleable__control sk-hidden--visually\" id=\"sk-estimator-id-6\" type=\"checkbox\" checked><label for=\"sk-estimator-id-6\" class=\"sk-toggleable__label sk-toggleable__label-arrow\">LogisticRegression</label><div class=\"sk-toggleable__content\"><pre>LogisticRegression(max_iter=1000, solver=&#x27;sag&#x27;)</pre></div></div></div></div></div>"
      ],
      "text/plain": [
       "LogisticRegression(max_iter=1000, solver='sag')"
      ]
     },
     "execution_count": 140,
     "metadata": {},
     "output_type": "execute_result"
    }
   ],
   "source": [
    "%%time\n",
    "model.fit(train_inputs, train_targets)"
   ]
  },
  {
   "cell_type": "markdown",
   "id": "68b6cb22-df66-4aaa-8582-603c2f166782",
   "metadata": {},
   "source": [
    "### Make predictions using the model"
   ]
  },
  {
   "cell_type": "code",
   "execution_count": 141,
   "id": "1572b5b2-fdd6-4fe0-9900-6cc67c83e250",
   "metadata": {},
   "outputs": [],
   "source": [
    "train_preds = model.predict(train_inputs)"
   ]
  },
  {
   "cell_type": "code",
   "execution_count": 142,
   "id": "009c7d6b-f55d-42a5-aa05-8fdd32d415ff",
   "metadata": {},
   "outputs": [
    {
     "data": {
      "text/plain": [
       "133883     0\n",
       "343925     0\n",
       "1190558    0\n",
       "317078     0\n",
       "355610     0\n",
       "          ..\n",
       "262505     0\n",
       "879467     0\n",
       "411614     0\n",
       "859707     0\n",
       "683832     0\n",
       "Name: target, Length: 70000, dtype: int64"
      ]
     },
     "execution_count": 142,
     "metadata": {},
     "output_type": "execute_result"
    }
   ],
   "source": [
    "train_targets"
   ]
  },
  {
   "cell_type": "code",
   "execution_count": 143,
   "id": "3841ccac-868e-4644-a361-22e509f7985a",
   "metadata": {},
   "outputs": [
    {
     "data": {
      "text/plain": [
       "array([0, 0, 0, ..., 0, 0, 0], dtype=int64)"
      ]
     },
     "execution_count": 143,
     "metadata": {},
     "output_type": "execute_result"
    }
   ],
   "source": [
    "train_preds"
   ]
  },
  {
   "cell_type": "code",
   "execution_count": 144,
   "id": "5ea4528f-fc80-4c08-868d-5794f0b5d677",
   "metadata": {},
   "outputs": [
    {
     "data": {
      "text/plain": [
       "0    68123\n",
       "1     1877\n",
       "dtype: int64"
      ]
     },
     "execution_count": 144,
     "metadata": {},
     "output_type": "execute_result"
    }
   ],
   "source": [
    "pd.Series(train_preds).value_counts()"
   ]
  },
  {
   "cell_type": "code",
   "execution_count": 145,
   "id": "37740a5f-6883-439f-a949-edb2ee8fba20",
   "metadata": {},
   "outputs": [],
   "source": [
    "from sklearn.metrics import accuracy_score"
   ]
  },
  {
   "cell_type": "code",
   "execution_count": 146,
   "id": "ba5445b9-263a-4a07-8713-1aa668bfc5f3",
   "metadata": {},
   "outputs": [
    {
     "data": {
      "text/plain": [
       "0.9482714285714285"
      ]
     },
     "execution_count": 146,
     "metadata": {},
     "output_type": "execute_result"
    }
   ],
   "source": [
    "accuracy_score(train_targets, train_preds)"
   ]
  },
  {
   "cell_type": "code",
   "execution_count": 147,
   "id": "8763da12-dcaa-4b82-a4d8-ff14e329d98d",
   "metadata": {},
   "outputs": [],
   "source": [
    "import numpy as np"
   ]
  },
  {
   "cell_type": "code",
   "execution_count": 148,
   "id": "5ea85aab-b131-492c-99dd-bfe85515165c",
   "metadata": {},
   "outputs": [
    {
     "data": {
      "text/plain": [
       "0.9397714285714286"
      ]
     },
     "execution_count": 148,
     "metadata": {},
     "output_type": "execute_result"
    }
   ],
   "source": [
    "accuracy_score(train_targets, np.zeros(len(train_targets)))"
   ]
  },
  {
   "cell_type": "code",
   "execution_count": 149,
   "id": "0fd67f0b-bef4-4f08-af12-4591c0904412",
   "metadata": {},
   "outputs": [],
   "source": [
    "from sklearn.metrics import f1_score # The way you can tell whether this model is great model or not specially when you have imbalanced dataset is using f1 score"
   ]
  },
  {
   "cell_type": "code",
   "execution_count": 150,
   "id": "a85a3c7c-64da-4825-8fd2-e2e2e1d1d927",
   "metadata": {},
   "outputs": [
    {
     "data": {
      "text/plain": [
       "0.40571147218119147"
      ]
     },
     "execution_count": 150,
     "metadata": {},
     "output_type": "execute_result"
    }
   ],
   "source": [
    "f1_score(train_targets, train_preds)"
   ]
  },
  {
   "cell_type": "code",
   "execution_count": 151,
   "id": "0eac2772-8609-474c-b8c9-6e5f46705f8c",
   "metadata": {},
   "outputs": [
    {
     "data": {
      "text/plain": [
       "0.10955562895398765"
      ]
     },
     "execution_count": 151,
     "metadata": {},
     "output_type": "execute_result"
    }
   ],
   "source": [
    "random_preds = np.random.choice((0, 1), len(train_targets))\n",
    "f1_score(train_targets, random_preds) # here we are doingrandom predictions\n",
    "# here the f1 score is very less here bcz we having the comperision between random value and train target"
   ]
  },
  {
   "cell_type": "code",
   "execution_count": 152,
   "id": "bcf64006-0d3e-4c79-a033-3c878979487b",
   "metadata": {},
   "outputs": [],
   "source": [
    "val_preds = model.predict(val_inputs)"
   ]
  },
  {
   "cell_type": "code",
   "execution_count": 153,
   "id": "193c563c-eebf-4c9d-8b42-c8edb9d7010d",
   "metadata": {},
   "outputs": [
    {
     "data": {
      "text/plain": [
       "0.945"
      ]
     },
     "execution_count": 153,
     "metadata": {},
     "output_type": "execute_result"
    }
   ],
   "source": [
    "accuracy_score(val_targets, val_preds)"
   ]
  },
  {
   "cell_type": "code",
   "execution_count": 154,
   "id": "e6377f08-7956-4e9b-845b-0d2da7bb85a5",
   "metadata": {},
   "outputs": [
    {
     "data": {
      "text/plain": [
       "0.3778280542986426"
      ]
     },
     "execution_count": 154,
     "metadata": {},
     "output_type": "execute_result"
    }
   ],
   "source": [
    "f1_score(val_targets, val_preds)\n",
    "# you will notice that the score generally will be worse on the validation set bcz to some extent of the memorize part of the training set"
   ]
  },
  {
   "cell_type": "code",
   "execution_count": 155,
   "id": "82620d9a-44b7-49c8-a1e4-f2eabdd2785b",
   "metadata": {},
   "outputs": [
    {
     "data": {
      "text/plain": [
       "array(['How did Quebec nationalists see their province as a nation in the 1960s?',\n",
       "       'Do you have an adopted dog, how would you encourage people to adopt and not shop?',\n",
       "       'Why does velocity affect time? Does velocity affect space geometry?',\n",
       "       'How did Otto von Guericke used the Magdeburg hemispheres?',\n",
       "       'Can I convert montra helicon D to a mountain bike by just changing the tyres?',\n",
       "       'Is Gaza slowly becoming Auschwitz, Dachau or Treblinka for Palestinians?',\n",
       "       'Why does Quora automatically ban conservative opinions when reported, but does not do the same for liberal views?',\n",
       "       'Is it crazy if I wash or wipe my groceries off? Germs are everywhere.',\n",
       "       'Is there such a thing as dressing moderately, and if so, how is that different than dressing modestly?',\n",
       "       'Is it just me or have you ever been in this phase wherein you became ignorant to the people you once loved, completely disregarding their feelings/lives so you get to have something go your way and feel temporarily at ease. How did things change?'],\n",
       "      dtype=object)"
      ]
     },
     "execution_count": 155,
     "metadata": {},
     "output_type": "execute_result"
    }
   ],
   "source": [
    "# picking few questions from sincere dataset and having the mdoel prediction\n",
    "sincere_df.question_text.values[:10]"
   ]
  },
  {
   "cell_type": "code",
   "execution_count": 156,
   "id": "5f4011de-a10a-46b4-a697-63b5a4cdfeb8",
   "metadata": {},
   "outputs": [
    {
     "data": {
      "text/plain": [
       "array([0, 0, 0, 0, 0, 0, 0, 0, 0, 0], dtype=int64)"
      ]
     },
     "execution_count": 156,
     "metadata": {},
     "output_type": "execute_result"
    }
   ],
   "source": [
    "sincere_df.target.values[:10]"
   ]
  },
  {
   "cell_type": "code",
   "execution_count": 157,
   "id": "af7cfaf5-1af2-40fe-beb6-28d57d08188f",
   "metadata": {},
   "outputs": [
    {
     "data": {
      "text/plain": [
       "array([0, 0, 0, 0, 0, 0, 1, 0, 0, 0], dtype=int64)"
      ]
     },
     "execution_count": 157,
     "metadata": {},
     "output_type": "execute_result"
    }
   ],
   "source": [
    "# orediction\n",
    "model.predict(vectorizer.transform(sincere_df.question_text.values[:10]))\n",
    "# looks like the model got most of these correct this is bcz that particular que is the balanced question its on the boundry\n",
    "# some word that sentence might contain that show it up as insincere"
   ]
  },
  {
   "cell_type": "code",
   "execution_count": 158,
   "id": "bd49474f-9931-4120-b41b-df4b8d3da2ec",
   "metadata": {},
   "outputs": [
    {
     "data": {
      "text/plain": [
       "array(['Has the United States become the largest dictatorship in the world?',\n",
       "       'Which babies are more sweeter to their parents? Dark skin babies or light skin babies?',\n",
       "       \"If blacks support school choice and mandatory sentencing for criminals why don't they vote Republican?\",\n",
       "       'I am gay boy and I love my cousin (boy). He is sexy, but I dont know what to do. He is hot, and I want to see his di**. What should I do?',\n",
       "       'Which races have the smallest penis?',\n",
       "       'Why do females find penises ugly?',\n",
       "       'How do I marry an American woman for a Green Card? How much do they charge?',\n",
       "       \"Why do Europeans say they're the superior race, when in fact it took them over 2,000 years until mid 19th century to surpass China's largest economy?\",\n",
       "       'Did Julius Caesar bring a tyrannosaurus rex on his campaigns to frighten the Celts into submission?',\n",
       "       \"In what manner has Republican backing of 'states rights' been hypocritical and what ways have they actually restricted the ability of states to make their own laws?\"],\n",
       "      dtype=object)"
      ]
     },
     "execution_count": 158,
     "metadata": {},
     "output_type": "execute_result"
    }
   ],
   "source": [
    "# picking few questions from insincere dataset and having the mdoel prediction\n",
    "insincere_df.question_text.values[:10]"
   ]
  },
  {
   "cell_type": "code",
   "execution_count": 159,
   "id": "80302937-bf43-4b69-8375-57f92c1e534c",
   "metadata": {},
   "outputs": [
    {
     "data": {
      "text/plain": [
       "array([1, 1, 1, 1, 1, 1, 1, 1, 1, 1], dtype=int64)"
      ]
     },
     "execution_count": 159,
     "metadata": {},
     "output_type": "execute_result"
    }
   ],
   "source": [
    "insincere_df.target.values[:10]"
   ]
  },
  {
   "cell_type": "code",
   "execution_count": 160,
   "id": "a4d96189-2f48-4e7c-a776-c3992927cf32",
   "metadata": {},
   "outputs": [
    {
     "data": {
      "text/plain": [
       "array([0, 0, 1, 1, 0, 0, 0, 1, 0, 0], dtype=int64)"
      ]
     },
     "execution_count": 160,
     "metadata": {},
     "output_type": "execute_result"
    }
   ],
   "source": [
    "# prediction\n",
    "model.predict(vectorizer.transform(insincere_df.question_text.values[:10]))\n",
    "# here you can see most are getting wrong quit often, evey model things in certain way, so the bag of words model tinking about which word occurs and how frequently\n",
    "# on moving ahead we will come to know bag of words si quite simple in its approach its considering the order of words its not looking on\n",
    "# puntuation not looking at nehgation its droping things like case\n",
    "# this apllication should be limit to those cases in which these limitation may not cause the major problem\n",
    "# so if quora would be using bag of words model it might be classifying some sincere as insincere and vice-versa"
   ]
  },
  {
   "cell_type": "markdown",
   "id": "14df2141-4d29-40d4-a0b1-7d415d9afb90",
   "metadata": {},
   "source": [
    "## Make Predictions and Submit to Kaggle"
   ]
  },
  {
   "cell_type": "code",
   "execution_count": 161,
   "id": "fa6338de-7696-4b23-a4d8-1c94ab6762b6",
   "metadata": {},
   "outputs": [
    {
     "data": {
      "text/html": [
       "<div>\n",
       "<style scoped>\n",
       "    .dataframe tbody tr th:only-of-type {\n",
       "        vertical-align: middle;\n",
       "    }\n",
       "\n",
       "    .dataframe tbody tr th {\n",
       "        vertical-align: top;\n",
       "    }\n",
       "\n",
       "    .dataframe thead th {\n",
       "        text-align: right;\n",
       "    }\n",
       "</style>\n",
       "<table border=\"1\" class=\"dataframe\">\n",
       "  <thead>\n",
       "    <tr style=\"text-align: right;\">\n",
       "      <th></th>\n",
       "      <th>qid</th>\n",
       "      <th>question_text</th>\n",
       "    </tr>\n",
       "  </thead>\n",
       "  <tbody>\n",
       "    <tr>\n",
       "      <th>0</th>\n",
       "      <td>0000163e3ea7c7a74cd7</td>\n",
       "      <td>Why do so many women become so rude and arroga...</td>\n",
       "    </tr>\n",
       "    <tr>\n",
       "      <th>1</th>\n",
       "      <td>00002bd4fb5d505b9161</td>\n",
       "      <td>When should I apply for RV college of engineer...</td>\n",
       "    </tr>\n",
       "    <tr>\n",
       "      <th>2</th>\n",
       "      <td>00007756b4a147d2b0b3</td>\n",
       "      <td>What is it really like to be a nurse practitio...</td>\n",
       "    </tr>\n",
       "    <tr>\n",
       "      <th>3</th>\n",
       "      <td>000086e4b7e1c7146103</td>\n",
       "      <td>Who are entrepreneurs?</td>\n",
       "    </tr>\n",
       "    <tr>\n",
       "      <th>4</th>\n",
       "      <td>0000c4c3fbe8785a3090</td>\n",
       "      <td>Is education really making good people nowadays?</td>\n",
       "    </tr>\n",
       "    <tr>\n",
       "      <th>...</th>\n",
       "      <td>...</td>\n",
       "      <td>...</td>\n",
       "    </tr>\n",
       "    <tr>\n",
       "      <th>375801</th>\n",
       "      <td>ffff7fa746bd6d6197a9</td>\n",
       "      <td>How many countries listed in gold import in in...</td>\n",
       "    </tr>\n",
       "    <tr>\n",
       "      <th>375802</th>\n",
       "      <td>ffffa1be31c43046ab6b</td>\n",
       "      <td>Is there an alternative to dresses on formal p...</td>\n",
       "    </tr>\n",
       "    <tr>\n",
       "      <th>375803</th>\n",
       "      <td>ffffae173b6ca6bfa563</td>\n",
       "      <td>Where I can find best friendship quotes in Tel...</td>\n",
       "    </tr>\n",
       "    <tr>\n",
       "      <th>375804</th>\n",
       "      <td>ffffb1f7f1a008620287</td>\n",
       "      <td>What are the causes of refraction of light?</td>\n",
       "    </tr>\n",
       "    <tr>\n",
       "      <th>375805</th>\n",
       "      <td>fffff85473f4699474b0</td>\n",
       "      <td>Climate change is a worrying topic. How much t...</td>\n",
       "    </tr>\n",
       "  </tbody>\n",
       "</table>\n",
       "<p>375806 rows × 2 columns</p>\n",
       "</div>"
      ],
      "text/plain": [
       "                         qid  \\\n",
       "0       0000163e3ea7c7a74cd7   \n",
       "1       00002bd4fb5d505b9161   \n",
       "2       00007756b4a147d2b0b3   \n",
       "3       000086e4b7e1c7146103   \n",
       "4       0000c4c3fbe8785a3090   \n",
       "...                      ...   \n",
       "375801  ffff7fa746bd6d6197a9   \n",
       "375802  ffffa1be31c43046ab6b   \n",
       "375803  ffffae173b6ca6bfa563   \n",
       "375804  ffffb1f7f1a008620287   \n",
       "375805  fffff85473f4699474b0   \n",
       "\n",
       "                                            question_text  \n",
       "0       Why do so many women become so rude and arroga...  \n",
       "1       When should I apply for RV college of engineer...  \n",
       "2       What is it really like to be a nurse practitio...  \n",
       "3                                  Who are entrepreneurs?  \n",
       "4        Is education really making good people nowadays?  \n",
       "...                                                   ...  \n",
       "375801  How many countries listed in gold import in in...  \n",
       "375802  Is there an alternative to dresses on formal p...  \n",
       "375803  Where I can find best friendship quotes in Tel...  \n",
       "375804        What are the causes of refraction of light?  \n",
       "375805  Climate change is a worrying topic. How much t...  \n",
       "\n",
       "[375806 rows x 2 columns]"
      ]
     },
     "execution_count": 161,
     "metadata": {},
     "output_type": "execute_result"
    }
   ],
   "source": [
    "test_df"
   ]
  },
  {
   "cell_type": "code",
   "execution_count": 163,
   "id": "80622e22-53df-41f0-946c-077250cf5067",
   "metadata": {},
   "outputs": [
    {
     "data": {
      "text/plain": [
       "(375806, 1000)"
      ]
     },
     "execution_count": 163,
     "metadata": {},
     "output_type": "execute_result"
    }
   ],
   "source": [
    "test_input.shape"
   ]
  },
  {
   "cell_type": "code",
   "execution_count": 165,
   "id": "9b736c49-d049-4897-8cb4-923bf7ba5918",
   "metadata": {},
   "outputs": [],
   "source": [
    "test_preds = model.predict(test_inputsub_df)"
   ]
  },
  {
   "cell_type": "code",
   "execution_count": 166,
   "id": "b4df1f4f-7d35-41dd-b2bd-a8dd5e07811b",
   "metadata": {},
   "outputs": [
    {
     "data": {
      "text/html": [
       "<div>\n",
       "<style scoped>\n",
       "    .dataframe tbody tr th:only-of-type {\n",
       "        vertical-align: middle;\n",
       "    }\n",
       "\n",
       "    .dataframe tbody tr th {\n",
       "        vertical-align: top;\n",
       "    }\n",
       "\n",
       "    .dataframe thead th {\n",
       "        text-align: right;\n",
       "    }\n",
       "</style>\n",
       "<table border=\"1\" class=\"dataframe\">\n",
       "  <thead>\n",
       "    <tr style=\"text-align: right;\">\n",
       "      <th></th>\n",
       "      <th>qid</th>\n",
       "      <th>prediction</th>\n",
       "    </tr>\n",
       "  </thead>\n",
       "  <tbody>\n",
       "    <tr>\n",
       "      <th>0</th>\n",
       "      <td>0000163e3ea7c7a74cd7</td>\n",
       "      <td>0</td>\n",
       "    </tr>\n",
       "    <tr>\n",
       "      <th>1</th>\n",
       "      <td>00002bd4fb5d505b9161</td>\n",
       "      <td>0</td>\n",
       "    </tr>\n",
       "    <tr>\n",
       "      <th>2</th>\n",
       "      <td>00007756b4a147d2b0b3</td>\n",
       "      <td>0</td>\n",
       "    </tr>\n",
       "    <tr>\n",
       "      <th>3</th>\n",
       "      <td>000086e4b7e1c7146103</td>\n",
       "      <td>0</td>\n",
       "    </tr>\n",
       "    <tr>\n",
       "      <th>4</th>\n",
       "      <td>0000c4c3fbe8785a3090</td>\n",
       "      <td>0</td>\n",
       "    </tr>\n",
       "    <tr>\n",
       "      <th>...</th>\n",
       "      <td>...</td>\n",
       "      <td>...</td>\n",
       "    </tr>\n",
       "    <tr>\n",
       "      <th>375801</th>\n",
       "      <td>ffff7fa746bd6d6197a9</td>\n",
       "      <td>0</td>\n",
       "    </tr>\n",
       "    <tr>\n",
       "      <th>375802</th>\n",
       "      <td>ffffa1be31c43046ab6b</td>\n",
       "      <td>0</td>\n",
       "    </tr>\n",
       "    <tr>\n",
       "      <th>375803</th>\n",
       "      <td>ffffae173b6ca6bfa563</td>\n",
       "      <td>0</td>\n",
       "    </tr>\n",
       "    <tr>\n",
       "      <th>375804</th>\n",
       "      <td>ffffb1f7f1a008620287</td>\n",
       "      <td>0</td>\n",
       "    </tr>\n",
       "    <tr>\n",
       "      <th>375805</th>\n",
       "      <td>fffff85473f4699474b0</td>\n",
       "      <td>0</td>\n",
       "    </tr>\n",
       "  </tbody>\n",
       "</table>\n",
       "<p>375806 rows × 2 columns</p>\n",
       "</div>"
      ],
      "text/plain": [
       "                         qid  prediction\n",
       "0       0000163e3ea7c7a74cd7           0\n",
       "1       00002bd4fb5d505b9161           0\n",
       "2       00007756b4a147d2b0b3           0\n",
       "3       000086e4b7e1c7146103           0\n",
       "4       0000c4c3fbe8785a3090           0\n",
       "...                      ...         ...\n",
       "375801  ffff7fa746bd6d6197a9           0\n",
       "375802  ffffa1be31c43046ab6b           0\n",
       "375803  ffffae173b6ca6bfa563           0\n",
       "375804  ffffb1f7f1a008620287           0\n",
       "375805  fffff85473f4699474b0           0\n",
       "\n",
       "[375806 rows x 2 columns]"
      ]
     },
     "execution_count": 166,
     "metadata": {},
     "output_type": "execute_result"
    }
   ],
   "source": [
    "sub_df"
   ]
  },
  {
   "cell_type": "markdown",
   "id": "8bed9078-f495-4b09-ae47-a70b4986d9aa",
   "metadata": {},
   "source": [
    "sub_df.prediction = test_preds"
   ]
  },
  {
   "cell_type": "code",
   "execution_count": 168,
   "id": "03e3eedd-ab16-4f6f-902a-c4ff49b2f665",
   "metadata": {},
   "outputs": [
    {
     "data": {
      "text/plain": [
       "0    365864\n",
       "1      9942\n",
       "Name: prediction, dtype: int64"
      ]
     },
     "execution_count": 168,
     "metadata": {},
     "output_type": "execute_result"
    }
   ],
   "source": [
    "sub_df.prediction.value_counts()"
   ]
  },
  {
   "cell_type": "code",
   "execution_count": 169,
   "id": "9d7b84ef-6c30-4584-be5e-1281bb95a14b",
   "metadata": {},
   "outputs": [
    {
     "data": {
      "text/html": [
       "<div>\n",
       "<style scoped>\n",
       "    .dataframe tbody tr th:only-of-type {\n",
       "        vertical-align: middle;\n",
       "    }\n",
       "\n",
       "    .dataframe tbody tr th {\n",
       "        vertical-align: top;\n",
       "    }\n",
       "\n",
       "    .dataframe thead th {\n",
       "        text-align: right;\n",
       "    }\n",
       "</style>\n",
       "<table border=\"1\" class=\"dataframe\">\n",
       "  <thead>\n",
       "    <tr style=\"text-align: right;\">\n",
       "      <th></th>\n",
       "      <th>qid</th>\n",
       "      <th>prediction</th>\n",
       "    </tr>\n",
       "  </thead>\n",
       "  <tbody>\n",
       "    <tr>\n",
       "      <th>0</th>\n",
       "      <td>0000163e3ea7c7a74cd7</td>\n",
       "      <td>0</td>\n",
       "    </tr>\n",
       "    <tr>\n",
       "      <th>1</th>\n",
       "      <td>00002bd4fb5d505b9161</td>\n",
       "      <td>0</td>\n",
       "    </tr>\n",
       "    <tr>\n",
       "      <th>2</th>\n",
       "      <td>00007756b4a147d2b0b3</td>\n",
       "      <td>0</td>\n",
       "    </tr>\n",
       "    <tr>\n",
       "      <th>3</th>\n",
       "      <td>000086e4b7e1c7146103</td>\n",
       "      <td>0</td>\n",
       "    </tr>\n",
       "    <tr>\n",
       "      <th>4</th>\n",
       "      <td>0000c4c3fbe8785a3090</td>\n",
       "      <td>0</td>\n",
       "    </tr>\n",
       "    <tr>\n",
       "      <th>...</th>\n",
       "      <td>...</td>\n",
       "      <td>...</td>\n",
       "    </tr>\n",
       "    <tr>\n",
       "      <th>375801</th>\n",
       "      <td>ffff7fa746bd6d6197a9</td>\n",
       "      <td>0</td>\n",
       "    </tr>\n",
       "    <tr>\n",
       "      <th>375802</th>\n",
       "      <td>ffffa1be31c43046ab6b</td>\n",
       "      <td>0</td>\n",
       "    </tr>\n",
       "    <tr>\n",
       "      <th>375803</th>\n",
       "      <td>ffffae173b6ca6bfa563</td>\n",
       "      <td>0</td>\n",
       "    </tr>\n",
       "    <tr>\n",
       "      <th>375804</th>\n",
       "      <td>ffffb1f7f1a008620287</td>\n",
       "      <td>0</td>\n",
       "    </tr>\n",
       "    <tr>\n",
       "      <th>375805</th>\n",
       "      <td>fffff85473f4699474b0</td>\n",
       "      <td>0</td>\n",
       "    </tr>\n",
       "  </tbody>\n",
       "</table>\n",
       "<p>375806 rows × 2 columns</p>\n",
       "</div>"
      ],
      "text/plain": [
       "                         qid  prediction\n",
       "0       0000163e3ea7c7a74cd7           0\n",
       "1       00002bd4fb5d505b9161           0\n",
       "2       00007756b4a147d2b0b3           0\n",
       "3       000086e4b7e1c7146103           0\n",
       "4       0000c4c3fbe8785a3090           0\n",
       "...                      ...         ...\n",
       "375801  ffff7fa746bd6d6197a9           0\n",
       "375802  ffffa1be31c43046ab6b           0\n",
       "375803  ffffae173b6ca6bfa563           0\n",
       "375804  ffffb1f7f1a008620287           0\n",
       "375805  fffff85473f4699474b0           0\n",
       "\n",
       "[375806 rows x 2 columns]"
      ]
     },
     "execution_count": 169,
     "metadata": {},
     "output_type": "execute_result"
    }
   ],
   "source": [
    "sub_df"
   ]
  },
  {
   "cell_type": "code",
   "execution_count": 170,
   "id": "3277277d-321e-4645-a577-40b3c3b2b487",
   "metadata": {},
   "outputs": [],
   "source": [
    "sub_df.to_csv('NLP01_submission.csv', index=None)"
   ]
  },
  {
   "cell_type": "markdown",
   "id": "41c2d4fe-32e4-481b-baf2-b2f2952d15c9",
   "metadata": {},
   "source": [
    "### More about of Bag of word -> https://www.youtube.com/watch?v=IKgBLTeQQL8"
   ]
  }
 ],
 "metadata": {
  "kernelspec": {
   "display_name": "Python 3 (ipykernel)",
   "language": "python",
   "name": "python3"
  },
  "language_info": {
   "codemirror_mode": {
    "name": "ipython",
    "version": 3
   },
   "file_extension": ".py",
   "mimetype": "text/x-python",
   "name": "python",
   "nbconvert_exporter": "python",
   "pygments_lexer": "ipython3",
   "version": "3.10.8"
  }
 },
 "nbformat": 4,
 "nbformat_minor": 5
}
